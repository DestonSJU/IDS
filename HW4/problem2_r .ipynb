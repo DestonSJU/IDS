{
  "nbformat": 4,
  "nbformat_minor": 0,
  "metadata": {
    "colab": {
      "provenance": []
    },
    "kernelspec": {
      "name": "ir",
      "display_name": "R"
    },
    "language_info": {
      "name": "R"
    }
  },
  "cells": [
    {
      "cell_type": "markdown",
      "source": [
        "1 and 2. First I create and display the data from the csv file as a dataframe. In order to import the data I had to upload the nutrition_subset.csv file to the session storage before I could read it and create a dataframe"
      ],
      "metadata": {
        "id": "ybqhsoxWqPbN"
      }
    },
    {
      "cell_type": "code",
      "execution_count": 1,
      "metadata": {
        "colab": {
          "base_uri": "https://localhost:8080/",
          "height": 1000
        },
        "id": "aL9KsuP1IQ8F",
        "outputId": "436ad2c8-2166-4d38-d03d-a88e315a1d1c"
      },
      "outputs": [
        {
          "output_type": "display_data",
          "data": {
            "text/html": [
              "<table class=\"dataframe\">\n",
              "<caption>A data.frame: 100 × 4</caption>\n",
              "<thead>\n",
              "\t<tr><th></th><th scope=col>food.item</th><th scope=col>weight_in_grams</th><th scope=col>saturated_fat</th><th scope=col>cholesterol</th></tr>\n",
              "\t<tr><th></th><th scope=col>&lt;chr&gt;</th><th scope=col>&lt;dbl&gt;</th><th scope=col>&lt;dbl&gt;</th><th scope=col>&lt;int&gt;</th></tr>\n",
              "</thead>\n",
              "<tbody>\n",
              "\t<tr><th scope=row>1</th><td>GELATIN; DRY                  1 ENVELP</td><td>  7.00</td><td> 0.0</td><td>  0</td></tr>\n",
              "\t<tr><th scope=row>2</th><td>SEAWEED; SPIRULINA; DRIED     1 OZ    </td><td> 28.35</td><td> 0.8</td><td>  0</td></tr>\n",
              "\t<tr><th scope=row>3</th><td>YEAST; BAKERS; DRY; ACTIVE    1 PKG   </td><td>  7.00</td><td> 0.0</td><td>  0</td></tr>\n",
              "\t<tr><th scope=row>4</th><td>PARMESAN CHEESE; GRATED       1 OZ    </td><td> 28.35</td><td> 5.4</td><td> 22</td></tr>\n",
              "\t<tr><th scope=row>5</th><td>PARMESAN CHEESE; GRATED       1 CUP   </td><td>100.00</td><td>19.1</td><td> 79</td></tr>\n",
              "\t<tr><th scope=row>6</th><td>PARMESAN CHEESE; GRATED       1 TBSP  </td><td>  5.00</td><td> 1.0</td><td>  4</td></tr>\n",
              "\t<tr><th scope=row>7</th><td>YEAST; BREWERS; DRY           1 TBSP  </td><td>  8.00</td><td> 0.0</td><td>  0</td></tr>\n",
              "\t<tr><th scope=row>8</th><td>LAMB;CHOPS;ARM;BRAISED;LEAN   1.7 OZ  </td><td> 48.00</td><td> 2.9</td><td> 59</td></tr>\n",
              "\t<tr><th scope=row>9</th><td>TUNA; CANND; DRND;WATR; WHITE 3 OZ    </td><td> 85.00</td><td> 0.3</td><td> 48</td></tr>\n",
              "\t<tr><th scope=row>10</th><td>NONFAT DRY MILK; INSTANTIZED  1 CUP   </td><td> 68.00</td><td> 0.3</td><td> 12</td></tr>\n",
              "\t<tr><th scope=row>11</th><td>NONFAT DRY MILK; INSTANTIZED  1 ENVLPE</td><td> 91.00</td><td> 0.4</td><td> 17</td></tr>\n",
              "\t<tr><th scope=row>12</th><td>BUTTERMILK; DRIED             1 CUP   </td><td>120.00</td><td> 4.3</td><td> 83</td></tr>\n",
              "\t<tr><th scope=row>13</th><td>BEEF; DRIED; CHIPPED          2.5 OZ  </td><td> 72.00</td><td> 1.8</td><td> 46</td></tr>\n",
              "\t<tr><th scope=row>14</th><td>PORK SHOULDER; BRAISD; LEAN   2.4 OZ  </td><td> 67.00</td><td> 2.8</td><td> 76</td></tr>\n",
              "\t<tr><th scope=row>15</th><td>BEEF; CKD;BTTM ROUND;LEAN ONLY2.8 OZ  </td><td> 78.00</td><td> 2.7</td><td> 75</td></tr>\n",
              "\t<tr><th scope=row>16</th><td>PORK CHOP; LOIN; BROIL; LEAN  2.5 OZ  </td><td> 72.00</td><td> 2.6</td><td> 71</td></tr>\n",
              "\t<tr><th scope=row>17</th><td>LAMB;CHOPS;ARM;BRAISED;LEAN+FT2.2 OZ  </td><td> 63.00</td><td> 6.9</td><td> 77</td></tr>\n",
              "\t<tr><th scope=row>18</th><td>CHICKEN; FRIED; FLOUR; BREAST 3.5 OZ  </td><td> 98.00</td><td> 2.4</td><td> 87</td></tr>\n",
              "\t<tr><th scope=row>19</th><td>PORK; CURED; BACON; REGUL;CKED3 SLICE </td><td> 19.00</td><td> 3.3</td><td> 16</td></tr>\n",
              "\t<tr><th scope=row>20</th><td>CHICKEN; ROASTED; BREAST      3.0 OZ  </td><td> 86.00</td><td> 0.9</td><td> 73</td></tr>\n",
              "\t<tr><th scope=row>21</th><td>PEANUT BUTTER                 1 TBSP  </td><td> 16.00</td><td> 1.4</td><td>  0</td></tr>\n",
              "\t<tr><th scope=row>22</th><td>BEEF; CKD;CHUCK BLADE;LEANONLY2.2 OZ  </td><td> 62.00</td><td> 3.9</td><td> 66</td></tr>\n",
              "\t<tr><th scope=row>23</th><td>BEEF STEAK;SIRLOIN;BROIL;LEAN 2.5 OZ  </td><td> 72.00</td><td> 2.6</td><td> 64</td></tr>\n",
              "\t<tr><th scope=row>24</th><td>LAMB;CHOPS;LOIN;BROIL;LEAN    2.3 OZ  </td><td> 64.00</td><td> 2.6</td><td> 60</td></tr>\n",
              "\t<tr><th scope=row>25</th><td>BEEF; CKD;BTTM ROUND;LEAN+ FAT3 OZ    </td><td> 85.00</td><td> 4.8</td><td> 81</td></tr>\n",
              "\t<tr><th scope=row>26</th><td>TURKEY; ROASTED; LIGHT + DARK 3 PIECES</td><td> 85.00</td><td> 1.4</td><td> 65</td></tr>\n",
              "\t<tr><th scope=row>27</th><td>TURKEY; ROASTED; LIGHT MEAT   2 PIECES</td><td> 85.00</td><td> 0.9</td><td> 59</td></tr>\n",
              "\t<tr><th scope=row>28</th><td>BEEF ROAST; EYE O RND; LEAN   2.6 OZ  </td><td> 75.00</td><td> 1.9</td><td> 52</td></tr>\n",
              "\t<tr><th scope=row>29</th><td>TURKEY; ROASTED; LIGHT + DARK 1 CUP   </td><td>140.00</td><td> 2.3</td><td>106</td></tr>\n",
              "\t<tr><th scope=row>30</th><td>PORK CHOP; LOIN;PANFRY; LEAN  2.4 OZ  </td><td> 67.00</td><td> 3.7</td><td> 72</td></tr>\n",
              "\t<tr><th scope=row>⋮</th><td>⋮</td><td>⋮</td><td>⋮</td><td>⋮</td></tr>\n",
              "\t<tr><th scope=row>71</th><td>PUMPKIN AND SQUASH KERNELS    1 OZ    </td><td> 28.35</td><td> 2.5</td><td>  0</td></tr>\n",
              "\t<tr><th scope=row>72</th><td>WALNUTS; BLACK; CHOPPED       1 OZ    </td><td> 28.35</td><td> 1.0</td><td>  0</td></tr>\n",
              "\t<tr><th scope=row>73</th><td>CHEDDAR CHEESE                1 OZ    </td><td> 28.35</td><td> 6.0</td><td> 30</td></tr>\n",
              "\t<tr><th scope=row>74</th><td>PASTERZD PROCES CHEESE; SWISS 1 OZ    </td><td> 28.35</td><td> 4.5</td><td> 24</td></tr>\n",
              "\t<tr><th scope=row>75</th><td>MUENSTER CHEESE               1 OZ    </td><td> 28.35</td><td> 5.4</td><td> 27</td></tr>\n",
              "\t<tr><th scope=row>76</th><td>PROVOLONE CHEESE              1 OZ    </td><td> 28.35</td><td> 4.8</td><td> 20</td></tr>\n",
              "\t<tr><th scope=row>77</th><td>WALNUTS; BLACK; CHOPPED       1 CUP   </td><td>125.00</td><td> 4.5</td><td>  0</td></tr>\n",
              "\t<tr><th scope=row>78</th><td>PORK; CURED; BACON;CANADN;CKED2 SLICE </td><td> 46.00</td><td> 1.3</td><td> 27</td></tr>\n",
              "\t<tr><th scope=row>79</th><td>TURKEY LOAF; BREAST MEAT W/O C2 SLICES</td><td> 42.00</td><td> 0.2</td><td> 17</td></tr>\n",
              "\t<tr><th scope=row>80</th><td>TURKEY LOAF; BREAST MEAT; W/ C2 SLICES</td><td> 42.00</td><td> 0.2</td><td> 17</td></tr>\n",
              "\t<tr><th scope=row>81</th><td>PORK CHOP; LOIN;PANFRY;LEAN+FT3.1 OZ  </td><td> 89.00</td><td> 9.8</td><td> 92</td></tr>\n",
              "\t<tr><th scope=row>82</th><td>SARDINES; ATLNTC;CNNED;OIL;DRN3 OZ    </td><td> 85.00</td><td> 2.1</td><td> 85</td></tr>\n",
              "\t<tr><th scope=row>83</th><td>DUCK; ROASTED; FLESH ONLY     1/2 DUCK</td><td>221.00</td><td> 9.2</td><td>197</td></tr>\n",
              "\t<tr><th scope=row>84</th><td>GROUND BEEF; BROILED; REGULAR 3 OZ    </td><td> 85.00</td><td> 6.9</td><td> 76</td></tr>\n",
              "\t<tr><th scope=row>85</th><td>HALIBUT; BROILED; BUTTER;LEMJU3 OZ    </td><td> 85.00</td><td> 3.3</td><td> 62</td></tr>\n",
              "\t<tr><th scope=row>86</th><td>CHEDDAR CHEESE                1 CU IN </td><td> 17.00</td><td> 3.6</td><td> 18</td></tr>\n",
              "\t<tr><th scope=row>87</th><td>PORK; LINK; COOKED            1 LINK  </td><td> 13.00</td><td> 1.4</td><td> 11</td></tr>\n",
              "\t<tr><th scope=row>88</th><td>BEEF ROAST; RIB; LEAN + FAT   3 OZ    </td><td> 85.00</td><td>10.8</td><td> 72</td></tr>\n",
              "\t<tr><th scope=row>89</th><td>CHICKEN; FRIED; BATTER;DRMSTCK2.5 OZ  </td><td> 72.00</td><td> 3.0</td><td> 62</td></tr>\n",
              "\t<tr><th scope=row>90</th><td>CHICKEN; CANNED; BONELESS     5 OZ    </td><td>142.00</td><td> 3.1</td><td> 88</td></tr>\n",
              "\t<tr><th scope=row>91</th><td>FISH STICKS; FROZEN; REHEATED 1 STICK </td><td> 28.00</td><td> 0.8</td><td> 26</td></tr>\n",
              "\t<tr><th scope=row>92</th><td>LAMB; RIB; ROASTED; LEAN + FAT3 OZ    </td><td> 85.00</td><td>12.1</td><td> 77</td></tr>\n",
              "\t<tr><th scope=row>93</th><td>TURKEY ROAST; FRZN;LGHT+DRK;CK3 OZ    </td><td> 85.00</td><td> 1.6</td><td> 45</td></tr>\n",
              "\t<tr><th scope=row>94</th><td>PORK; CURED; HAM; CANNED;ROAST3 OZ    </td><td> 85.00</td><td> 2.4</td><td> 35</td></tr>\n",
              "\t<tr><th scope=row>95</th><td>SALMON; SMOKED                3 OZ    </td><td> 85.00</td><td> 2.6</td><td> 51</td></tr>\n",
              "\t<tr><th scope=row>96</th><td>PORK; CURED; HAM; ROSTED;LN+FT3 OZ    </td><td> 85.00</td><td> 5.1</td><td> 53</td></tr>\n",
              "\t<tr><th scope=row>97</th><td>SPECIAL K CEREAL              1 OZ    </td><td> 28.35</td><td> 0.0</td><td>  0</td></tr>\n",
              "\t<tr><th scope=row>98</th><td>PISTACHIO NUTS                1 OZ    </td><td> 28.35</td><td> 1.7</td><td>  0</td></tr>\n",
              "\t<tr><th scope=row>99</th><td>SUNFLOWER SEEDS               1 OZ    </td><td> 28.35</td><td> 1.5</td><td>  0</td></tr>\n",
              "\t<tr><th scope=row>100</th><td>ALMONDS; WHOLE                1 OZ    </td><td> 28.35</td><td> 1.4</td><td>  0</td></tr>\n",
              "</tbody>\n",
              "</table>\n"
            ],
            "text/markdown": "\nA data.frame: 100 × 4\n\n| <!--/--> | food.item &lt;chr&gt; | weight_in_grams &lt;dbl&gt; | saturated_fat &lt;dbl&gt; | cholesterol &lt;int&gt; |\n|---|---|---|---|---|\n| 1 | GELATIN; DRY                  1 ENVELP |   7.00 |  0.0 |   0 |\n| 2 | SEAWEED; SPIRULINA; DRIED     1 OZ     |  28.35 |  0.8 |   0 |\n| 3 | YEAST; BAKERS; DRY; ACTIVE    1 PKG    |   7.00 |  0.0 |   0 |\n| 4 | PARMESAN CHEESE; GRATED       1 OZ     |  28.35 |  5.4 |  22 |\n| 5 | PARMESAN CHEESE; GRATED       1 CUP    | 100.00 | 19.1 |  79 |\n| 6 | PARMESAN CHEESE; GRATED       1 TBSP   |   5.00 |  1.0 |   4 |\n| 7 | YEAST; BREWERS; DRY           1 TBSP   |   8.00 |  0.0 |   0 |\n| 8 | LAMB;CHOPS;ARM;BRAISED;LEAN   1.7 OZ   |  48.00 |  2.9 |  59 |\n| 9 | TUNA; CANND; DRND;WATR; WHITE 3 OZ     |  85.00 |  0.3 |  48 |\n| 10 | NONFAT DRY MILK; INSTANTIZED  1 CUP    |  68.00 |  0.3 |  12 |\n| 11 | NONFAT DRY MILK; INSTANTIZED  1 ENVLPE |  91.00 |  0.4 |  17 |\n| 12 | BUTTERMILK; DRIED             1 CUP    | 120.00 |  4.3 |  83 |\n| 13 | BEEF; DRIED; CHIPPED          2.5 OZ   |  72.00 |  1.8 |  46 |\n| 14 | PORK SHOULDER; BRAISD; LEAN   2.4 OZ   |  67.00 |  2.8 |  76 |\n| 15 | BEEF; CKD;BTTM ROUND;LEAN ONLY2.8 OZ   |  78.00 |  2.7 |  75 |\n| 16 | PORK CHOP; LOIN; BROIL; LEAN  2.5 OZ   |  72.00 |  2.6 |  71 |\n| 17 | LAMB;CHOPS;ARM;BRAISED;LEAN+FT2.2 OZ   |  63.00 |  6.9 |  77 |\n| 18 | CHICKEN; FRIED; FLOUR; BREAST 3.5 OZ   |  98.00 |  2.4 |  87 |\n| 19 | PORK; CURED; BACON; REGUL;CKED3 SLICE  |  19.00 |  3.3 |  16 |\n| 20 | CHICKEN; ROASTED; BREAST      3.0 OZ   |  86.00 |  0.9 |  73 |\n| 21 | PEANUT BUTTER                 1 TBSP   |  16.00 |  1.4 |   0 |\n| 22 | BEEF; CKD;CHUCK BLADE;LEANONLY2.2 OZ   |  62.00 |  3.9 |  66 |\n| 23 | BEEF STEAK;SIRLOIN;BROIL;LEAN 2.5 OZ   |  72.00 |  2.6 |  64 |\n| 24 | LAMB;CHOPS;LOIN;BROIL;LEAN    2.3 OZ   |  64.00 |  2.6 |  60 |\n| 25 | BEEF; CKD;BTTM ROUND;LEAN+ FAT3 OZ     |  85.00 |  4.8 |  81 |\n| 26 | TURKEY; ROASTED; LIGHT + DARK 3 PIECES |  85.00 |  1.4 |  65 |\n| 27 | TURKEY; ROASTED; LIGHT MEAT   2 PIECES |  85.00 |  0.9 |  59 |\n| 28 | BEEF ROAST; EYE O RND; LEAN   2.6 OZ   |  75.00 |  1.9 |  52 |\n| 29 | TURKEY; ROASTED; LIGHT + DARK 1 CUP    | 140.00 |  2.3 | 106 |\n| 30 | PORK CHOP; LOIN;PANFRY; LEAN  2.4 OZ   |  67.00 |  3.7 |  72 |\n| ⋮ | ⋮ | ⋮ | ⋮ | ⋮ |\n| 71 | PUMPKIN AND SQUASH KERNELS    1 OZ     |  28.35 |  2.5 |   0 |\n| 72 | WALNUTS; BLACK; CHOPPED       1 OZ     |  28.35 |  1.0 |   0 |\n| 73 | CHEDDAR CHEESE                1 OZ     |  28.35 |  6.0 |  30 |\n| 74 | PASTERZD PROCES CHEESE; SWISS 1 OZ     |  28.35 |  4.5 |  24 |\n| 75 | MUENSTER CHEESE               1 OZ     |  28.35 |  5.4 |  27 |\n| 76 | PROVOLONE CHEESE              1 OZ     |  28.35 |  4.8 |  20 |\n| 77 | WALNUTS; BLACK; CHOPPED       1 CUP    | 125.00 |  4.5 |   0 |\n| 78 | PORK; CURED; BACON;CANADN;CKED2 SLICE  |  46.00 |  1.3 |  27 |\n| 79 | TURKEY LOAF; BREAST MEAT W/O C2 SLICES |  42.00 |  0.2 |  17 |\n| 80 | TURKEY LOAF; BREAST MEAT; W/ C2 SLICES |  42.00 |  0.2 |  17 |\n| 81 | PORK CHOP; LOIN;PANFRY;LEAN+FT3.1 OZ   |  89.00 |  9.8 |  92 |\n| 82 | SARDINES; ATLNTC;CNNED;OIL;DRN3 OZ     |  85.00 |  2.1 |  85 |\n| 83 | DUCK; ROASTED; FLESH ONLY     1/2 DUCK | 221.00 |  9.2 | 197 |\n| 84 | GROUND BEEF; BROILED; REGULAR 3 OZ     |  85.00 |  6.9 |  76 |\n| 85 | HALIBUT; BROILED; BUTTER;LEMJU3 OZ     |  85.00 |  3.3 |  62 |\n| 86 | CHEDDAR CHEESE                1 CU IN  |  17.00 |  3.6 |  18 |\n| 87 | PORK; LINK; COOKED            1 LINK   |  13.00 |  1.4 |  11 |\n| 88 | BEEF ROAST; RIB; LEAN + FAT   3 OZ     |  85.00 | 10.8 |  72 |\n| 89 | CHICKEN; FRIED; BATTER;DRMSTCK2.5 OZ   |  72.00 |  3.0 |  62 |\n| 90 | CHICKEN; CANNED; BONELESS     5 OZ     | 142.00 |  3.1 |  88 |\n| 91 | FISH STICKS; FROZEN; REHEATED 1 STICK  |  28.00 |  0.8 |  26 |\n| 92 | LAMB; RIB; ROASTED; LEAN + FAT3 OZ     |  85.00 | 12.1 |  77 |\n| 93 | TURKEY ROAST; FRZN;LGHT+DRK;CK3 OZ     |  85.00 |  1.6 |  45 |\n| 94 | PORK; CURED; HAM; CANNED;ROAST3 OZ     |  85.00 |  2.4 |  35 |\n| 95 | SALMON; SMOKED                3 OZ     |  85.00 |  2.6 |  51 |\n| 96 | PORK; CURED; HAM; ROSTED;LN+FT3 OZ     |  85.00 |  5.1 |  53 |\n| 97 | SPECIAL K CEREAL              1 OZ     |  28.35 |  0.0 |   0 |\n| 98 | PISTACHIO NUTS                1 OZ     |  28.35 |  1.7 |   0 |\n| 99 | SUNFLOWER SEEDS               1 OZ     |  28.35 |  1.5 |   0 |\n| 100 | ALMONDS; WHOLE                1 OZ     |  28.35 |  1.4 |   0 |\n\n",
            "text/latex": "A data.frame: 100 × 4\n\\begin{tabular}{r|llll}\n  & food.item & weight\\_in\\_grams & saturated\\_fat & cholesterol\\\\\n  & <chr> & <dbl> & <dbl> & <int>\\\\\n\\hline\n\t1 & GELATIN; DRY                  1 ENVELP &   7.00 &  0.0 &   0\\\\\n\t2 & SEAWEED; SPIRULINA; DRIED     1 OZ     &  28.35 &  0.8 &   0\\\\\n\t3 & YEAST; BAKERS; DRY; ACTIVE    1 PKG    &   7.00 &  0.0 &   0\\\\\n\t4 & PARMESAN CHEESE; GRATED       1 OZ     &  28.35 &  5.4 &  22\\\\\n\t5 & PARMESAN CHEESE; GRATED       1 CUP    & 100.00 & 19.1 &  79\\\\\n\t6 & PARMESAN CHEESE; GRATED       1 TBSP   &   5.00 &  1.0 &   4\\\\\n\t7 & YEAST; BREWERS; DRY           1 TBSP   &   8.00 &  0.0 &   0\\\\\n\t8 & LAMB;CHOPS;ARM;BRAISED;LEAN   1.7 OZ   &  48.00 &  2.9 &  59\\\\\n\t9 & TUNA; CANND; DRND;WATR; WHITE 3 OZ     &  85.00 &  0.3 &  48\\\\\n\t10 & NONFAT DRY MILK; INSTANTIZED  1 CUP    &  68.00 &  0.3 &  12\\\\\n\t11 & NONFAT DRY MILK; INSTANTIZED  1 ENVLPE &  91.00 &  0.4 &  17\\\\\n\t12 & BUTTERMILK; DRIED             1 CUP    & 120.00 &  4.3 &  83\\\\\n\t13 & BEEF; DRIED; CHIPPED          2.5 OZ   &  72.00 &  1.8 &  46\\\\\n\t14 & PORK SHOULDER; BRAISD; LEAN   2.4 OZ   &  67.00 &  2.8 &  76\\\\\n\t15 & BEEF; CKD;BTTM ROUND;LEAN ONLY2.8 OZ   &  78.00 &  2.7 &  75\\\\\n\t16 & PORK CHOP; LOIN; BROIL; LEAN  2.5 OZ   &  72.00 &  2.6 &  71\\\\\n\t17 & LAMB;CHOPS;ARM;BRAISED;LEAN+FT2.2 OZ   &  63.00 &  6.9 &  77\\\\\n\t18 & CHICKEN; FRIED; FLOUR; BREAST 3.5 OZ   &  98.00 &  2.4 &  87\\\\\n\t19 & PORK; CURED; BACON; REGUL;CKED3 SLICE  &  19.00 &  3.3 &  16\\\\\n\t20 & CHICKEN; ROASTED; BREAST      3.0 OZ   &  86.00 &  0.9 &  73\\\\\n\t21 & PEANUT BUTTER                 1 TBSP   &  16.00 &  1.4 &   0\\\\\n\t22 & BEEF; CKD;CHUCK BLADE;LEANONLY2.2 OZ   &  62.00 &  3.9 &  66\\\\\n\t23 & BEEF STEAK;SIRLOIN;BROIL;LEAN 2.5 OZ   &  72.00 &  2.6 &  64\\\\\n\t24 & LAMB;CHOPS;LOIN;BROIL;LEAN    2.3 OZ   &  64.00 &  2.6 &  60\\\\\n\t25 & BEEF; CKD;BTTM ROUND;LEAN+ FAT3 OZ     &  85.00 &  4.8 &  81\\\\\n\t26 & TURKEY; ROASTED; LIGHT + DARK 3 PIECES &  85.00 &  1.4 &  65\\\\\n\t27 & TURKEY; ROASTED; LIGHT MEAT   2 PIECES &  85.00 &  0.9 &  59\\\\\n\t28 & BEEF ROAST; EYE O RND; LEAN   2.6 OZ   &  75.00 &  1.9 &  52\\\\\n\t29 & TURKEY; ROASTED; LIGHT + DARK 1 CUP    & 140.00 &  2.3 & 106\\\\\n\t30 & PORK CHOP; LOIN;PANFRY; LEAN  2.4 OZ   &  67.00 &  3.7 &  72\\\\\n\t⋮ & ⋮ & ⋮ & ⋮ & ⋮\\\\\n\t71 & PUMPKIN AND SQUASH KERNELS    1 OZ     &  28.35 &  2.5 &   0\\\\\n\t72 & WALNUTS; BLACK; CHOPPED       1 OZ     &  28.35 &  1.0 &   0\\\\\n\t73 & CHEDDAR CHEESE                1 OZ     &  28.35 &  6.0 &  30\\\\\n\t74 & PASTERZD PROCES CHEESE; SWISS 1 OZ     &  28.35 &  4.5 &  24\\\\\n\t75 & MUENSTER CHEESE               1 OZ     &  28.35 &  5.4 &  27\\\\\n\t76 & PROVOLONE CHEESE              1 OZ     &  28.35 &  4.8 &  20\\\\\n\t77 & WALNUTS; BLACK; CHOPPED       1 CUP    & 125.00 &  4.5 &   0\\\\\n\t78 & PORK; CURED; BACON;CANADN;CKED2 SLICE  &  46.00 &  1.3 &  27\\\\\n\t79 & TURKEY LOAF; BREAST MEAT W/O C2 SLICES &  42.00 &  0.2 &  17\\\\\n\t80 & TURKEY LOAF; BREAST MEAT; W/ C2 SLICES &  42.00 &  0.2 &  17\\\\\n\t81 & PORK CHOP; LOIN;PANFRY;LEAN+FT3.1 OZ   &  89.00 &  9.8 &  92\\\\\n\t82 & SARDINES; ATLNTC;CNNED;OIL;DRN3 OZ     &  85.00 &  2.1 &  85\\\\\n\t83 & DUCK; ROASTED; FLESH ONLY     1/2 DUCK & 221.00 &  9.2 & 197\\\\\n\t84 & GROUND BEEF; BROILED; REGULAR 3 OZ     &  85.00 &  6.9 &  76\\\\\n\t85 & HALIBUT; BROILED; BUTTER;LEMJU3 OZ     &  85.00 &  3.3 &  62\\\\\n\t86 & CHEDDAR CHEESE                1 CU IN  &  17.00 &  3.6 &  18\\\\\n\t87 & PORK; LINK; COOKED            1 LINK   &  13.00 &  1.4 &  11\\\\\n\t88 & BEEF ROAST; RIB; LEAN + FAT   3 OZ     &  85.00 & 10.8 &  72\\\\\n\t89 & CHICKEN; FRIED; BATTER;DRMSTCK2.5 OZ   &  72.00 &  3.0 &  62\\\\\n\t90 & CHICKEN; CANNED; BONELESS     5 OZ     & 142.00 &  3.1 &  88\\\\\n\t91 & FISH STICKS; FROZEN; REHEATED 1 STICK  &  28.00 &  0.8 &  26\\\\\n\t92 & LAMB; RIB; ROASTED; LEAN + FAT3 OZ     &  85.00 & 12.1 &  77\\\\\n\t93 & TURKEY ROAST; FRZN;LGHT+DRK;CK3 OZ     &  85.00 &  1.6 &  45\\\\\n\t94 & PORK; CURED; HAM; CANNED;ROAST3 OZ     &  85.00 &  2.4 &  35\\\\\n\t95 & SALMON; SMOKED                3 OZ     &  85.00 &  2.6 &  51\\\\\n\t96 & PORK; CURED; HAM; ROSTED;LN+FT3 OZ     &  85.00 &  5.1 &  53\\\\\n\t97 & SPECIAL K CEREAL              1 OZ     &  28.35 &  0.0 &   0\\\\\n\t98 & PISTACHIO NUTS                1 OZ     &  28.35 &  1.7 &   0\\\\\n\t99 & SUNFLOWER SEEDS               1 OZ     &  28.35 &  1.5 &   0\\\\\n\t100 & ALMONDS; WHOLE                1 OZ     &  28.35 &  1.4 &   0\\\\\n\\end{tabular}\n",
            "text/plain": [
              "    food.item                              weight_in_grams saturated_fat\n",
              "1   GELATIN; DRY                  1 ENVELP   7.00           0.0         \n",
              "2   SEAWEED; SPIRULINA; DRIED     1 OZ      28.35           0.8         \n",
              "3   YEAST; BAKERS; DRY; ACTIVE    1 PKG      7.00           0.0         \n",
              "4   PARMESAN CHEESE; GRATED       1 OZ      28.35           5.4         \n",
              "5   PARMESAN CHEESE; GRATED       1 CUP    100.00          19.1         \n",
              "6   PARMESAN CHEESE; GRATED       1 TBSP     5.00           1.0         \n",
              "7   YEAST; BREWERS; DRY           1 TBSP     8.00           0.0         \n",
              "8   LAMB;CHOPS;ARM;BRAISED;LEAN   1.7 OZ    48.00           2.9         \n",
              "9   TUNA; CANND; DRND;WATR; WHITE 3 OZ      85.00           0.3         \n",
              "10  NONFAT DRY MILK; INSTANTIZED  1 CUP     68.00           0.3         \n",
              "11  NONFAT DRY MILK; INSTANTIZED  1 ENVLPE  91.00           0.4         \n",
              "12  BUTTERMILK; DRIED             1 CUP    120.00           4.3         \n",
              "13  BEEF; DRIED; CHIPPED          2.5 OZ    72.00           1.8         \n",
              "14  PORK SHOULDER; BRAISD; LEAN   2.4 OZ    67.00           2.8         \n",
              "15  BEEF; CKD;BTTM ROUND;LEAN ONLY2.8 OZ    78.00           2.7         \n",
              "16  PORK CHOP; LOIN; BROIL; LEAN  2.5 OZ    72.00           2.6         \n",
              "17  LAMB;CHOPS;ARM;BRAISED;LEAN+FT2.2 OZ    63.00           6.9         \n",
              "18  CHICKEN; FRIED; FLOUR; BREAST 3.5 OZ    98.00           2.4         \n",
              "19  PORK; CURED; BACON; REGUL;CKED3 SLICE   19.00           3.3         \n",
              "20  CHICKEN; ROASTED; BREAST      3.0 OZ    86.00           0.9         \n",
              "21  PEANUT BUTTER                 1 TBSP    16.00           1.4         \n",
              "22  BEEF; CKD;CHUCK BLADE;LEANONLY2.2 OZ    62.00           3.9         \n",
              "23  BEEF STEAK;SIRLOIN;BROIL;LEAN 2.5 OZ    72.00           2.6         \n",
              "24  LAMB;CHOPS;LOIN;BROIL;LEAN    2.3 OZ    64.00           2.6         \n",
              "25  BEEF; CKD;BTTM ROUND;LEAN+ FAT3 OZ      85.00           4.8         \n",
              "26  TURKEY; ROASTED; LIGHT + DARK 3 PIECES  85.00           1.4         \n",
              "27  TURKEY; ROASTED; LIGHT MEAT   2 PIECES  85.00           0.9         \n",
              "28  BEEF ROAST; EYE O RND; LEAN   2.6 OZ    75.00           1.9         \n",
              "29  TURKEY; ROASTED; LIGHT + DARK 1 CUP    140.00           2.3         \n",
              "30  PORK CHOP; LOIN;PANFRY; LEAN  2.4 OZ    67.00           3.7         \n",
              "⋮   ⋮                                      ⋮               ⋮            \n",
              "71  PUMPKIN AND SQUASH KERNELS    1 OZ      28.35           2.5         \n",
              "72  WALNUTS; BLACK; CHOPPED       1 OZ      28.35           1.0         \n",
              "73  CHEDDAR CHEESE                1 OZ      28.35           6.0         \n",
              "74  PASTERZD PROCES CHEESE; SWISS 1 OZ      28.35           4.5         \n",
              "75  MUENSTER CHEESE               1 OZ      28.35           5.4         \n",
              "76  PROVOLONE CHEESE              1 OZ      28.35           4.8         \n",
              "77  WALNUTS; BLACK; CHOPPED       1 CUP    125.00           4.5         \n",
              "78  PORK; CURED; BACON;CANADN;CKED2 SLICE   46.00           1.3         \n",
              "79  TURKEY LOAF; BREAST MEAT W/O C2 SLICES  42.00           0.2         \n",
              "80  TURKEY LOAF; BREAST MEAT; W/ C2 SLICES  42.00           0.2         \n",
              "81  PORK CHOP; LOIN;PANFRY;LEAN+FT3.1 OZ    89.00           9.8         \n",
              "82  SARDINES; ATLNTC;CNNED;OIL;DRN3 OZ      85.00           2.1         \n",
              "83  DUCK; ROASTED; FLESH ONLY     1/2 DUCK 221.00           9.2         \n",
              "84  GROUND BEEF; BROILED; REGULAR 3 OZ      85.00           6.9         \n",
              "85  HALIBUT; BROILED; BUTTER;LEMJU3 OZ      85.00           3.3         \n",
              "86  CHEDDAR CHEESE                1 CU IN   17.00           3.6         \n",
              "87  PORK; LINK; COOKED            1 LINK    13.00           1.4         \n",
              "88  BEEF ROAST; RIB; LEAN + FAT   3 OZ      85.00          10.8         \n",
              "89  CHICKEN; FRIED; BATTER;DRMSTCK2.5 OZ    72.00           3.0         \n",
              "90  CHICKEN; CANNED; BONELESS     5 OZ     142.00           3.1         \n",
              "91  FISH STICKS; FROZEN; REHEATED 1 STICK   28.00           0.8         \n",
              "92  LAMB; RIB; ROASTED; LEAN + FAT3 OZ      85.00          12.1         \n",
              "93  TURKEY ROAST; FRZN;LGHT+DRK;CK3 OZ      85.00           1.6         \n",
              "94  PORK; CURED; HAM; CANNED;ROAST3 OZ      85.00           2.4         \n",
              "95  SALMON; SMOKED                3 OZ      85.00           2.6         \n",
              "96  PORK; CURED; HAM; ROSTED;LN+FT3 OZ      85.00           5.1         \n",
              "97  SPECIAL K CEREAL              1 OZ      28.35           0.0         \n",
              "98  PISTACHIO NUTS                1 OZ      28.35           1.7         \n",
              "99  SUNFLOWER SEEDS               1 OZ      28.35           1.5         \n",
              "100 ALMONDS; WHOLE                1 OZ      28.35           1.4         \n",
              "    cholesterol\n",
              "1     0        \n",
              "2     0        \n",
              "3     0        \n",
              "4    22        \n",
              "5    79        \n",
              "6     4        \n",
              "7     0        \n",
              "8    59        \n",
              "9    48        \n",
              "10   12        \n",
              "11   17        \n",
              "12   83        \n",
              "13   46        \n",
              "14   76        \n",
              "15   75        \n",
              "16   71        \n",
              "17   77        \n",
              "18   87        \n",
              "19   16        \n",
              "20   73        \n",
              "21    0        \n",
              "22   66        \n",
              "23   64        \n",
              "24   60        \n",
              "25   81        \n",
              "26   65        \n",
              "27   59        \n",
              "28   52        \n",
              "29  106        \n",
              "30   72        \n",
              "⋮   ⋮          \n",
              "71    0        \n",
              "72    0        \n",
              "73   30        \n",
              "74   24        \n",
              "75   27        \n",
              "76   20        \n",
              "77    0        \n",
              "78   27        \n",
              "79   17        \n",
              "80   17        \n",
              "81   92        \n",
              "82   85        \n",
              "83  197        \n",
              "84   76        \n",
              "85   62        \n",
              "86   18        \n",
              "87   11        \n",
              "88   72        \n",
              "89   62        \n",
              "90   88        \n",
              "91   26        \n",
              "92   77        \n",
              "93   45        \n",
              "94   35        \n",
              "95   51        \n",
              "96   53        \n",
              "97    0        \n",
              "98    0        \n",
              "99    0        \n",
              "100   0        "
            ]
          },
          "metadata": {}
        }
      ],
      "source": [
        "#Set up dataframe and display it\n",
        "data <- read.csv(\"nutrition_subset.csv\")\n",
        "nutritionDF <- data\n",
        "head(nutritionDF, 100)"
      ]
    },
    {
      "cell_type": "markdown",
      "source": [
        "3.It is not valid to compare foods of different sizes because foods of larger sizes would naturally be more likely to have more saturated fat, while they are foods that might have less overall saturated fat, but more saturated fat per gram. This means that using saturated fat per gram is better because it takes into account the differences in size of the different foods"
      ],
      "metadata": {
        "id": "dtVJSkaSqkVg"
      }
    },
    {
      "cell_type": "code",
      "source": [
        "#Displays the highest 5 values for the sorted df based on saturated fat\n",
        "head(nutritionDF[order(nutritionDF$saturated_fat, decreasing=TRUE), 1:4], 5)\n"
      ],
      "metadata": {
        "colab": {
          "base_uri": "https://localhost:8080/",
          "height": 255
        },
        "id": "x6uKLK-oIq4w",
        "outputId": "94431192-2e1c-4989-8e44-5f732eb8803a"
      },
      "execution_count": 2,
      "outputs": [
        {
          "output_type": "display_data",
          "data": {
            "text/html": [
              "<table class=\"dataframe\">\n",
              "<caption>A data.frame: 5 × 4</caption>\n",
              "<thead>\n",
              "\t<tr><th></th><th scope=col>food.item</th><th scope=col>weight_in_grams</th><th scope=col>saturated_fat</th><th scope=col>cholesterol</th></tr>\n",
              "\t<tr><th></th><th scope=col>&lt;chr&gt;</th><th scope=col>&lt;dbl&gt;</th><th scope=col>&lt;dbl&gt;</th><th scope=col>&lt;int&gt;</th></tr>\n",
              "</thead>\n",
              "<tbody>\n",
              "\t<tr><th scope=row>379</th><td>CHEESECAKE                    1 CAKE  </td><td>1110</td><td>119.9</td><td>2053</td></tr>\n",
              "\t<tr><th scope=row>536</th><td>ICE CREAM; VANLLA; RICH 16% FT1/2 GAL </td><td>1188</td><td>118.3</td><td> 703</td></tr>\n",
              "\t<tr><th scope=row>459</th><td>YELLOWCAKE W/ CHOCFRSTNG;COMML1 CAKE  </td><td>1108</td><td> 92.0</td><td> 609</td></tr>\n",
              "\t<tr><th scope=row>582</th><td>CREME PIE                     1 PIE   </td><td> 910</td><td> 90.1</td><td>  46</td></tr>\n",
              "\t<tr><th scope=row>891</th><td>LARD                          1 CUP   </td><td> 205</td><td> 80.4</td><td> 195</td></tr>\n",
              "</tbody>\n",
              "</table>\n"
            ],
            "text/markdown": "\nA data.frame: 5 × 4\n\n| <!--/--> | food.item &lt;chr&gt; | weight_in_grams &lt;dbl&gt; | saturated_fat &lt;dbl&gt; | cholesterol &lt;int&gt; |\n|---|---|---|---|---|\n| 379 | CHEESECAKE                    1 CAKE   | 1110 | 119.9 | 2053 |\n| 536 | ICE CREAM; VANLLA; RICH 16% FT1/2 GAL  | 1188 | 118.3 |  703 |\n| 459 | YELLOWCAKE W/ CHOCFRSTNG;COMML1 CAKE   | 1108 |  92.0 |  609 |\n| 582 | CREME PIE                     1 PIE    |  910 |  90.1 |   46 |\n| 891 | LARD                          1 CUP    |  205 |  80.4 |  195 |\n\n",
            "text/latex": "A data.frame: 5 × 4\n\\begin{tabular}{r|llll}\n  & food.item & weight\\_in\\_grams & saturated\\_fat & cholesterol\\\\\n  & <chr> & <dbl> & <dbl> & <int>\\\\\n\\hline\n\t379 & CHEESECAKE                    1 CAKE   & 1110 & 119.9 & 2053\\\\\n\t536 & ICE CREAM; VANLLA; RICH 16\\% FT1/2 GAL  & 1188 & 118.3 &  703\\\\\n\t459 & YELLOWCAKE W/ CHOCFRSTNG;COMML1 CAKE   & 1108 &  92.0 &  609\\\\\n\t582 & CREME PIE                     1 PIE    &  910 &  90.1 &   46\\\\\n\t891 & LARD                          1 CUP    &  205 &  80.4 &  195\\\\\n\\end{tabular}\n",
            "text/plain": [
              "    food.item                              weight_in_grams saturated_fat\n",
              "379 CHEESECAKE                    1 CAKE   1110            119.9        \n",
              "536 ICE CREAM; VANLLA; RICH 16% FT1/2 GAL  1188            118.3        \n",
              "459 YELLOWCAKE W/ CHOCFRSTNG;COMML1 CAKE   1108             92.0        \n",
              "582 CREME PIE                     1 PIE     910             90.1        \n",
              "891 LARD                          1 CUP     205             80.4        \n",
              "    cholesterol\n",
              "379 2053       \n",
              "536  703       \n",
              "459  609       \n",
              "582   46       \n",
              "891  195       "
            ]
          },
          "metadata": {}
        }
      ]
    },
    {
      "cell_type": "markdown",
      "source": [
        "4. After sorting the data based on saturated fat per gram, I found that 1 tablespoon of salted butter has the most saturated fat per gram with about 0.507"
      ],
      "metadata": {
        "id": "PQt-6fOQqtZf"
      }
    },
    {
      "cell_type": "code",
      "source": [
        "#Loops through all rows and creates the coloumn saturated fat per gram\n",
        "for (row in nrow(nutritionDF)) {\n",
        "  nutritionDF$saturated_fat_per_gram <- nutritionDF$saturated_fat / nutritionDF$weight_in_grams\n",
        "}\n",
        "#Sorts the df by saturated fat per gram and displays the highest 5 values\n",
        "head(nutritionDF[order(nutritionDF$saturated_fat_per_gram, decreasing=TRUE), 1:5], 5)"
      ],
      "metadata": {
        "colab": {
          "base_uri": "https://localhost:8080/",
          "height": 255
        },
        "id": "pDPcwf_4KaWC",
        "outputId": "2f036a6d-6f2f-41bc-d412-2aaa973f1b48"
      },
      "execution_count": 3,
      "outputs": [
        {
          "output_type": "display_data",
          "data": {
            "text/html": [
              "<table class=\"dataframe\">\n",
              "<caption>A data.frame: 5 × 5</caption>\n",
              "<thead>\n",
              "\t<tr><th></th><th scope=col>food.item</th><th scope=col>weight_in_grams</th><th scope=col>saturated_fat</th><th scope=col>cholesterol</th><th scope=col>saturated_fat_per_gram</th></tr>\n",
              "\t<tr><th></th><th scope=col>&lt;chr&gt;</th><th scope=col>&lt;dbl&gt;</th><th scope=col>&lt;dbl&gt;</th><th scope=col>&lt;int&gt;</th><th scope=col>&lt;dbl&gt;</th></tr>\n",
              "</thead>\n",
              "<tbody>\n",
              "\t<tr><th scope=row>909</th><td>BUTTER; SALTED                1 TBSP  </td><td> 14</td><td> 7.1</td><td> 31</td><td>0.5071429</td></tr>\n",
              "\t<tr><th scope=row>910</th><td>BUTTER; UNSALTED              1 TBSP  </td><td> 14</td><td> 7.1</td><td> 31</td><td>0.5071429</td></tr>\n",
              "\t<tr><th scope=row>710</th><td>BUTTER; SALTED                1/2 CUP </td><td>113</td><td>57.1</td><td>247</td><td>0.5053097</td></tr>\n",
              "\t<tr><th scope=row>711</th><td>BUTTER; UNSALTED              1/2 CUP </td><td>113</td><td>57.1</td><td>247</td><td>0.5053097</td></tr>\n",
              "\t<tr><th scope=row>913</th><td>BUTTER; SALTED                1 PAT   </td><td>  5</td><td> 2.5</td><td> 11</td><td>0.5000000</td></tr>\n",
              "</tbody>\n",
              "</table>\n"
            ],
            "text/markdown": "\nA data.frame: 5 × 5\n\n| <!--/--> | food.item &lt;chr&gt; | weight_in_grams &lt;dbl&gt; | saturated_fat &lt;dbl&gt; | cholesterol &lt;int&gt; | saturated_fat_per_gram &lt;dbl&gt; |\n|---|---|---|---|---|---|\n| 909 | BUTTER; SALTED                1 TBSP   |  14 |  7.1 |  31 | 0.5071429 |\n| 910 | BUTTER; UNSALTED              1 TBSP   |  14 |  7.1 |  31 | 0.5071429 |\n| 710 | BUTTER; SALTED                1/2 CUP  | 113 | 57.1 | 247 | 0.5053097 |\n| 711 | BUTTER; UNSALTED              1/2 CUP  | 113 | 57.1 | 247 | 0.5053097 |\n| 913 | BUTTER; SALTED                1 PAT    |   5 |  2.5 |  11 | 0.5000000 |\n\n",
            "text/latex": "A data.frame: 5 × 5\n\\begin{tabular}{r|lllll}\n  & food.item & weight\\_in\\_grams & saturated\\_fat & cholesterol & saturated\\_fat\\_per\\_gram\\\\\n  & <chr> & <dbl> & <dbl> & <int> & <dbl>\\\\\n\\hline\n\t909 & BUTTER; SALTED                1 TBSP   &  14 &  7.1 &  31 & 0.5071429\\\\\n\t910 & BUTTER; UNSALTED              1 TBSP   &  14 &  7.1 &  31 & 0.5071429\\\\\n\t710 & BUTTER; SALTED                1/2 CUP  & 113 & 57.1 & 247 & 0.5053097\\\\\n\t711 & BUTTER; UNSALTED              1/2 CUP  & 113 & 57.1 & 247 & 0.5053097\\\\\n\t913 & BUTTER; SALTED                1 PAT    &   5 &  2.5 &  11 & 0.5000000\\\\\n\\end{tabular}\n",
            "text/plain": [
              "    food.item                              weight_in_grams saturated_fat\n",
              "909 BUTTER; SALTED                1 TBSP    14              7.1         \n",
              "910 BUTTER; UNSALTED              1 TBSP    14              7.1         \n",
              "710 BUTTER; SALTED                1/2 CUP  113             57.1         \n",
              "711 BUTTER; UNSALTED              1/2 CUP  113             57.1         \n",
              "913 BUTTER; SALTED                1 PAT      5              2.5         \n",
              "    cholesterol saturated_fat_per_gram\n",
              "909  31         0.5071429             \n",
              "910  31         0.5071429             \n",
              "710 247         0.5053097             \n",
              "711 247         0.5053097             \n",
              "913  11         0.5000000             "
            ]
          },
          "metadata": {}
        }
      ]
    },
    {
      "cell_type": "markdown",
      "source": [
        "5.After standardizing the data using z score and looking for outliers, I found there to be 15 high end outliers and 0 low end outliers. Based on the density plot, most of the values are near the mean, which is a little bit more than 0 (about 0.02) based on the plot"
      ],
      "metadata": {
        "id": "Ro5F5KEcqxga"
      }
    },
    {
      "cell_type": "code",
      "source": [
        "#Creates column for scaled saturated fat per gram and populates the values with eachrespective z score\n",
        "nutritionDF$scaled_saturated_fat_per_gram <- scale(x = nutritionDF$saturated_fat_per_gram)\n",
        "#Displays the rows that have a scaled saturated fat per gram greater than 3\n",
        "subset(nutritionDF, scaled_saturated_fat_per_gram > 3)"
      ],
      "metadata": {
        "colab": {
          "base_uri": "https://localhost:8080/",
          "height": 568
        },
        "id": "sueERQ0wLA05",
        "outputId": "dbed0379-896b-41f3-f5a5-b7cf80136a89"
      },
      "execution_count": 4,
      "outputs": [
        {
          "output_type": "display_data",
          "data": {
            "text/html": [
              "<table class=\"dataframe\">\n",
              "<caption>A data.frame: 15 × 6</caption>\n",
              "<thead>\n",
              "\t<tr><th></th><th scope=col>food.item</th><th scope=col>weight_in_grams</th><th scope=col>saturated_fat</th><th scope=col>cholesterol</th><th scope=col>saturated_fat_per_gram</th><th scope=col>scaled_saturated_fat_per_gram</th></tr>\n",
              "\t<tr><th></th><th scope=col>&lt;chr&gt;</th><th scope=col>&lt;dbl&gt;</th><th scope=col>&lt;dbl&gt;</th><th scope=col>&lt;int&gt;</th><th scope=col>&lt;dbl&gt;</th><th scope=col>&lt;dbl[,1]&gt;</th></tr>\n",
              "</thead>\n",
              "<tbody>\n",
              "\t<tr><th scope=row>211</th><td>CHOCOLATE; BITTER OT BAKING   1 OZ    </td><td> 28.35</td><td> 9.0</td><td>  0</td><td>0.3174603</td><td>4.238469</td></tr>\n",
              "\t<tr><th scope=row>449</th><td>COCONUT; RAW; SHREDDED        1 CUP   </td><td> 80.00</td><td>23.8</td><td>  0</td><td>0.2975000</td><td>3.936637</td></tr>\n",
              "\t<tr><th scope=row>493</th><td>COCONUT; DRIED; SWEETND;SHREDD1 CUP   </td><td> 93.00</td><td>29.3</td><td>  0</td><td>0.3150538</td><td>4.202078</td></tr>\n",
              "\t<tr><th scope=row>577</th><td>COCONUT; RAW; PIECE           1 PIECE </td><td> 45.00</td><td>13.4</td><td>  0</td><td>0.2977778</td><td>3.940837</td></tr>\n",
              "\t<tr><th scope=row>710</th><td>BUTTER; SALTED                1/2 CUP </td><td>113.00</td><td>57.1</td><td>247</td><td>0.5053097</td><td>7.079055</td></tr>\n",
              "\t<tr><th scope=row>711</th><td>BUTTER; UNSALTED              1/2 CUP </td><td>113.00</td><td>57.1</td><td>247</td><td>0.5053097</td><td>7.079055</td></tr>\n",
              "\t<tr><th scope=row>891</th><td>LARD                          1 CUP   </td><td>205.00</td><td>80.4</td><td>195</td><td>0.3921951</td><td>5.368580</td></tr>\n",
              "\t<tr><th scope=row>899</th><td>FATS; COOKING/VEGETBL SHORTENG1 TBSP  </td><td> 13.00</td><td> 3.3</td><td>  0</td><td>0.2538462</td><td>3.276520</td></tr>\n",
              "\t<tr><th scope=row>900</th><td>LARD                          1 TBSP  </td><td> 13.00</td><td> 5.1</td><td> 12</td><td>0.3923077</td><td>5.370282</td></tr>\n",
              "\t<tr><th scope=row>908</th><td>FATS; COOKING/VEGETBL SHORTENG1 CUP   </td><td>205.00</td><td>51.3</td><td>  0</td><td>0.2502439</td><td>3.222049</td></tr>\n",
              "\t<tr><th scope=row>909</th><td>BUTTER; SALTED                1 TBSP  </td><td> 14.00</td><td> 7.1</td><td> 31</td><td>0.5071429</td><td>7.106775</td></tr>\n",
              "\t<tr><th scope=row>910</th><td>BUTTER; UNSALTED              1 TBSP  </td><td> 14.00</td><td> 7.1</td><td> 31</td><td>0.5071429</td><td>7.106775</td></tr>\n",
              "\t<tr><th scope=row>913</th><td>BUTTER; SALTED                1 PAT   </td><td>  5.00</td><td> 2.5</td><td> 11</td><td>0.5000000</td><td>6.998763</td></tr>\n",
              "\t<tr><th scope=row>914</th><td>BUTTER; UNSALTED              1 PAT   </td><td>  5.00</td><td> 2.5</td><td> 11</td><td>0.5000000</td><td>6.998763</td></tr>\n",
              "\t<tr><th scope=row>921</th><td>IMITATION CREAMERS; POWDERED  1 TSP   </td><td>  2.00</td><td> 0.7</td><td>  0</td><td>0.3500000</td><td>4.730522</td></tr>\n",
              "</tbody>\n",
              "</table>\n"
            ],
            "text/markdown": "\nA data.frame: 15 × 6\n\n| <!--/--> | food.item &lt;chr&gt; | weight_in_grams &lt;dbl&gt; | saturated_fat &lt;dbl&gt; | cholesterol &lt;int&gt; | saturated_fat_per_gram &lt;dbl&gt; | scaled_saturated_fat_per_gram &lt;dbl[,1]&gt; |\n|---|---|---|---|---|---|---|\n| 211 | CHOCOLATE; BITTER OT BAKING   1 OZ     |  28.35 |  9.0 |   0 | 0.3174603 | 4.238469 |\n| 449 | COCONUT; RAW; SHREDDED        1 CUP    |  80.00 | 23.8 |   0 | 0.2975000 | 3.936637 |\n| 493 | COCONUT; DRIED; SWEETND;SHREDD1 CUP    |  93.00 | 29.3 |   0 | 0.3150538 | 4.202078 |\n| 577 | COCONUT; RAW; PIECE           1 PIECE  |  45.00 | 13.4 |   0 | 0.2977778 | 3.940837 |\n| 710 | BUTTER; SALTED                1/2 CUP  | 113.00 | 57.1 | 247 | 0.5053097 | 7.079055 |\n| 711 | BUTTER; UNSALTED              1/2 CUP  | 113.00 | 57.1 | 247 | 0.5053097 | 7.079055 |\n| 891 | LARD                          1 CUP    | 205.00 | 80.4 | 195 | 0.3921951 | 5.368580 |\n| 899 | FATS; COOKING/VEGETBL SHORTENG1 TBSP   |  13.00 |  3.3 |   0 | 0.2538462 | 3.276520 |\n| 900 | LARD                          1 TBSP   |  13.00 |  5.1 |  12 | 0.3923077 | 5.370282 |\n| 908 | FATS; COOKING/VEGETBL SHORTENG1 CUP    | 205.00 | 51.3 |   0 | 0.2502439 | 3.222049 |\n| 909 | BUTTER; SALTED                1 TBSP   |  14.00 |  7.1 |  31 | 0.5071429 | 7.106775 |\n| 910 | BUTTER; UNSALTED              1 TBSP   |  14.00 |  7.1 |  31 | 0.5071429 | 7.106775 |\n| 913 | BUTTER; SALTED                1 PAT    |   5.00 |  2.5 |  11 | 0.5000000 | 6.998763 |\n| 914 | BUTTER; UNSALTED              1 PAT    |   5.00 |  2.5 |  11 | 0.5000000 | 6.998763 |\n| 921 | IMITATION CREAMERS; POWDERED  1 TSP    |   2.00 |  0.7 |   0 | 0.3500000 | 4.730522 |\n\n",
            "text/latex": "A data.frame: 15 × 6\n\\begin{tabular}{r|llllll}\n  & food.item & weight\\_in\\_grams & saturated\\_fat & cholesterol & saturated\\_fat\\_per\\_gram & scaled\\_saturated\\_fat\\_per\\_gram\\\\\n  & <chr> & <dbl> & <dbl> & <int> & <dbl> & <dbl{[},1{]}>\\\\\n\\hline\n\t211 & CHOCOLATE; BITTER OT BAKING   1 OZ     &  28.35 &  9.0 &   0 & 0.3174603 & 4.238469\\\\\n\t449 & COCONUT; RAW; SHREDDED        1 CUP    &  80.00 & 23.8 &   0 & 0.2975000 & 3.936637\\\\\n\t493 & COCONUT; DRIED; SWEETND;SHREDD1 CUP    &  93.00 & 29.3 &   0 & 0.3150538 & 4.202078\\\\\n\t577 & COCONUT; RAW; PIECE           1 PIECE  &  45.00 & 13.4 &   0 & 0.2977778 & 3.940837\\\\\n\t710 & BUTTER; SALTED                1/2 CUP  & 113.00 & 57.1 & 247 & 0.5053097 & 7.079055\\\\\n\t711 & BUTTER; UNSALTED              1/2 CUP  & 113.00 & 57.1 & 247 & 0.5053097 & 7.079055\\\\\n\t891 & LARD                          1 CUP    & 205.00 & 80.4 & 195 & 0.3921951 & 5.368580\\\\\n\t899 & FATS; COOKING/VEGETBL SHORTENG1 TBSP   &  13.00 &  3.3 &   0 & 0.2538462 & 3.276520\\\\\n\t900 & LARD                          1 TBSP   &  13.00 &  5.1 &  12 & 0.3923077 & 5.370282\\\\\n\t908 & FATS; COOKING/VEGETBL SHORTENG1 CUP    & 205.00 & 51.3 &   0 & 0.2502439 & 3.222049\\\\\n\t909 & BUTTER; SALTED                1 TBSP   &  14.00 &  7.1 &  31 & 0.5071429 & 7.106775\\\\\n\t910 & BUTTER; UNSALTED              1 TBSP   &  14.00 &  7.1 &  31 & 0.5071429 & 7.106775\\\\\n\t913 & BUTTER; SALTED                1 PAT    &   5.00 &  2.5 &  11 & 0.5000000 & 6.998763\\\\\n\t914 & BUTTER; UNSALTED              1 PAT    &   5.00 &  2.5 &  11 & 0.5000000 & 6.998763\\\\\n\t921 & IMITATION CREAMERS; POWDERED  1 TSP    &   2.00 &  0.7 &   0 & 0.3500000 & 4.730522\\\\\n\\end{tabular}\n",
            "text/plain": [
              "    food.item                              weight_in_grams saturated_fat\n",
              "211 CHOCOLATE; BITTER OT BAKING   1 OZ      28.35           9.0         \n",
              "449 COCONUT; RAW; SHREDDED        1 CUP     80.00          23.8         \n",
              "493 COCONUT; DRIED; SWEETND;SHREDD1 CUP     93.00          29.3         \n",
              "577 COCONUT; RAW; PIECE           1 PIECE   45.00          13.4         \n",
              "710 BUTTER; SALTED                1/2 CUP  113.00          57.1         \n",
              "711 BUTTER; UNSALTED              1/2 CUP  113.00          57.1         \n",
              "891 LARD                          1 CUP    205.00          80.4         \n",
              "899 FATS; COOKING/VEGETBL SHORTENG1 TBSP    13.00           3.3         \n",
              "900 LARD                          1 TBSP    13.00           5.1         \n",
              "908 FATS; COOKING/VEGETBL SHORTENG1 CUP    205.00          51.3         \n",
              "909 BUTTER; SALTED                1 TBSP    14.00           7.1         \n",
              "910 BUTTER; UNSALTED              1 TBSP    14.00           7.1         \n",
              "913 BUTTER; SALTED                1 PAT      5.00           2.5         \n",
              "914 BUTTER; UNSALTED              1 PAT      5.00           2.5         \n",
              "921 IMITATION CREAMERS; POWDERED  1 TSP      2.00           0.7         \n",
              "    cholesterol saturated_fat_per_gram scaled_saturated_fat_per_gram\n",
              "211   0         0.3174603              4.238469                     \n",
              "449   0         0.2975000              3.936637                     \n",
              "493   0         0.3150538              4.202078                     \n",
              "577   0         0.2977778              3.940837                     \n",
              "710 247         0.5053097              7.079055                     \n",
              "711 247         0.5053097              7.079055                     \n",
              "891 195         0.3921951              5.368580                     \n",
              "899   0         0.2538462              3.276520                     \n",
              "900  12         0.3923077              5.370282                     \n",
              "908   0         0.2502439              3.222049                     \n",
              "909  31         0.5071429              7.106775                     \n",
              "910  31         0.5071429              7.106775                     \n",
              "913  11         0.5000000              6.998763                     \n",
              "914  11         0.5000000              6.998763                     \n",
              "921   0         0.3500000              4.730522                     "
            ]
          },
          "metadata": {}
        }
      ]
    },
    {
      "cell_type": "code",
      "source": [
        "#Displays the number of rows that have a scaled saturated fat per gram less than -3\n",
        "nrow(subset(nutritionDF, scaled_saturated_fat_per_gram < -3))"
      ],
      "metadata": {
        "colab": {
          "base_uri": "https://localhost:8080/",
          "height": 34
        },
        "id": "d6VzpcSFL8S7",
        "outputId": "9b4e5f96-8d62-4339-a164-a250140502c8"
      },
      "execution_count": 5,
      "outputs": [
        {
          "output_type": "display_data",
          "data": {
            "text/html": [
              "0"
            ],
            "text/markdown": "0",
            "text/latex": "0",
            "text/plain": [
              "[1] 0"
            ]
          },
          "metadata": {}
        }
      ]
    },
    {
      "cell_type": "code",
      "source": [
        "#Builds and displays density plot for unscaled saturated fat per gram\n",
        "par(mfrow=c(1, 2))\n",
        "d1 <- density(nutritionDF$saturated_fat_per_gram)\n",
        "plot(d1, main=\"Unscaled Saturated Fat per Gram\")\n",
        "polygon(d1, col=\"orange\", border=\"blue\")\n",
        "#Builds and displays density plot for scaled saturated fat per gram\n",
        "d2 <- density(nutritionDF$scaled_saturated_fat_per_gram)\n",
        "plot(d2, main=\"Scaled Saturated Fat per Gram\")\n",
        "polygon(d2, col=\"orange\", border=\"blue\")"
      ],
      "metadata": {
        "colab": {
          "base_uri": "https://localhost:8080/",
          "height": 437
        },
        "id": "lKgJM7mdMP5c",
        "outputId": "118f7f85-ead3-43c9-db77-965abed0ea69"
      },
      "execution_count": 6,
      "outputs": [
        {
          "output_type": "display_data",
          "data": {
            "text/plain": [
              "Plot with title “Scaled Saturated Fat per Gram”"
            ],
            "image/png": "[encoded data removed]"
          },
          "metadata": {
            "image/png": {
              "width": 420,
              "height": 420
            }
          }
        }
      ]
    },
    {
      "cell_type": "markdown",
      "source": [
        "6. There appears to be no missing values in this data"
      ],
      "metadata": {
        "id": "YXTggoPFq6gh"
      }
    },
    {
      "cell_type": "code",
      "source": [
        "install.packages(\"Hmisc\")\n",
        "library(Hmisc)"
      ],
      "metadata": {
        "colab": {
          "base_uri": "https://localhost:8080/"
        },
        "id": "GUxbxGmWOW-_",
        "outputId": "0eae793c-af43-4c46-df1f-1572be27a131"
      },
      "execution_count": 7,
      "outputs": [
        {
          "output_type": "stream",
          "name": "stderr",
          "text": [
            "Installing package into ‘/usr/local/lib/R/site-library’\n",
            "(as ‘lib’ is unspecified)\n",
            "\n",
            "also installing the dependencies ‘checkmate’, ‘htmlwidgets’, ‘gridExtra’, ‘htmlTable’, ‘viridis’, ‘Formula’\n",
            "\n",
            "\n",
            "\n",
            "Attaching package: ‘Hmisc’\n",
            "\n",
            "\n",
            "The following objects are masked from ‘package:base’:\n",
            "\n",
            "    format.pval, units\n",
            "\n",
            "\n"
          ]
        }
      ]
    },
    {
      "cell_type": "code",
      "source": [
        "#Checks for missing values\n",
        "cat(sum(is.na(nutritionDF)))\n"
      ],
      "metadata": {
        "colab": {
          "base_uri": "https://localhost:8080/"
        },
        "id": "3KS7KCzAPZKW",
        "outputId": "754df382-0671-4880-9330-b6fcc078f752"
      },
      "execution_count": 8,
      "outputs": [
        {
          "output_type": "stream",
          "name": "stdout",
          "text": [
            "0"
          ]
        }
      ]
    },
    {
      "cell_type": "markdown",
      "source": [
        "7. I standardize the data for the rest of the numerical values and check for outliers. In addition to the 15 outliers I found before for the saturated fat per gram, I found weight in grams to have 22 outliers, saturated fat to have 20 outliers, and cholesterol to have 17 outliers."
      ],
      "metadata": {
        "id": "uxbj5WKprTCb"
      }
    },
    {
      "cell_type": "code",
      "source": [
        "#Creates column for scaled weight in grams and populates the values with each respective z score\n",
        "nutritionDF$scaled_weight_in_grams <- scale(x = nutritionDF$weight_in_grams)\n",
        "#Displays the amount of rows where scaled weight in grams is greater than 3 or less than -3.\n",
        "nrow(subset(nutritionDF, scaled_weight_in_grams > 3)) + nrow(subset(nutritionDF, scaled_weight_in_grams < -3))"
      ],
      "metadata": {
        "colab": {
          "base_uri": "https://localhost:8080/",
          "height": 34
        },
        "id": "rENNdiRFR8x7",
        "outputId": "68bf1817-3f68-4946-b7fc-aa757f02dbec"
      },
      "execution_count": 9,
      "outputs": [
        {
          "output_type": "display_data",
          "data": {
            "text/html": [
              "22"
            ],
            "text/markdown": "22",
            "text/latex": "22",
            "text/plain": [
              "[1] 22"
            ]
          },
          "metadata": {}
        }
      ]
    },
    {
      "cell_type": "code",
      "source": [
        "#Creates column for scaled saturated fat and populates the values with each respective z score\n",
        "nutritionDF$scaled_saturated_fat <- scale(x = nutritionDF$saturated_fat)\n",
        "#Displays the amount of rows where scaled saturated fat is greater than 3 or less than -3.\n",
        "nrow(subset(nutritionDF, scaled_saturated_fat > 3)) + nrow(subset(nutritionDF, scaled_saturated_fat < -3))"
      ],
      "metadata": {
        "colab": {
          "base_uri": "https://localhost:8080/",
          "height": 34
        },
        "id": "VbkLkKJQTMBb",
        "outputId": "b54dc1a7-ee2f-4e31-a556-4762cd99b582"
      },
      "execution_count": 10,
      "outputs": [
        {
          "output_type": "display_data",
          "data": {
            "text/html": [
              "20"
            ],
            "text/markdown": "20",
            "text/latex": "20",
            "text/plain": [
              "[1] 20"
            ]
          },
          "metadata": {}
        }
      ]
    },
    {
      "cell_type": "code",
      "source": [
        "#Creates column for scaled cholesterol and populates the values with each respective z score\n",
        "nutritionDF$scaled_cholesterol <- scale(x = nutritionDF$cholesterol)\n",
        "#Displays the amount of rows where scaled cholesterol is greater than 3 or less than -3.\n",
        "nrow(subset(nutritionDF, scaled_cholesterol > 3)) + nrow(subset(nutritionDF, scaled_cholesterol < -3))"
      ],
      "metadata": {
        "colab": {
          "base_uri": "https://localhost:8080/",
          "height": 34
        },
        "id": "iV5nTiZfTNLx",
        "outputId": "616df642-f676-49ba-c5a5-21c1077da2be"
      },
      "execution_count": 11,
      "outputs": [
        {
          "output_type": "display_data",
          "data": {
            "text/html": [
              "17"
            ],
            "text/markdown": "17",
            "text/latex": "17",
            "text/plain": [
              "[1] 17"
            ]
          },
          "metadata": {}
        }
      ]
    },
    {
      "cell_type": "code",
      "source": [
        "#Displays df\n",
        "head(nutritionDF, 100)"
      ],
      "metadata": {
        "colab": {
          "base_uri": "https://localhost:8080/",
          "height": 1000
        },
        "id": "rYELAmxnWDhS",
        "outputId": "642f1cf6-5fc4-49f3-a8ad-c2ed6cd1452f"
      },
      "execution_count": 13,
      "outputs": [
        {
          "output_type": "display_data",
          "data": {
            "text/html": [
              "<table class=\"dataframe\">\n",
              "<caption>A data.frame: 100 × 9</caption>\n",
              "<thead>\n",
              "\t<tr><th></th><th scope=col>food.item</th><th scope=col>weight_in_grams</th><th scope=col>saturated_fat</th><th scope=col>cholesterol</th><th scope=col>saturated_fat_per_gram</th><th scope=col>scaled_saturated_fat_per_gram</th><th scope=col>scaled_weight_in_grams</th><th scope=col>scaled_saturated_fat</th><th scope=col>scaled_cholesterol</th></tr>\n",
              "\t<tr><th></th><th scope=col>&lt;chr&gt;</th><th scope=col>&lt;dbl&gt;</th><th scope=col>&lt;dbl&gt;</th><th scope=col>&lt;int&gt;</th><th scope=col>&lt;dbl&gt;</th><th scope=col>&lt;dbl[,1]&gt;</th><th scope=col>&lt;dbl[,1]&gt;</th><th scope=col>&lt;dbl[,1]&gt;</th><th scope=col>&lt;dbl[,1]&gt;</th></tr>\n",
              "</thead>\n",
              "<tbody>\n",
              "\t<tr><th scope=row>1</th><td>GELATIN; DRY                  1 ENVELP</td><td>  7.00</td><td> 0.0</td><td>  0</td><td>0.000000000</td><td>-0.56204258</td><td>-0.80956106</td><td>-0.371135870</td><td>-0.27136904</td></tr>\n",
              "\t<tr><th scope=row>2</th><td>SEAWEED; SPIRULINA; DRIED     1 OZ    </td><td> 28.35</td><td> 0.8</td><td>  0</td><td>0.028218695</td><td>-0.13533042</td><td>-0.68819173</td><td>-0.296678195</td><td>-0.27136904</td></tr>\n",
              "\t<tr><th scope=row>3</th><td>YEAST; BAKERS; DRY; ACTIVE    1 PKG   </td><td>  7.00</td><td> 0.0</td><td>  0</td><td>0.000000000</td><td>-0.56204258</td><td>-0.80956106</td><td>-0.371135870</td><td>-0.27136904</td></tr>\n",
              "\t<tr><th scope=row>4</th><td>PARMESAN CHEESE; GRATED       1 OZ    </td><td> 28.35</td><td> 5.4</td><td> 22</td><td>0.190476190</td><td> 2.31826445</td><td>-0.68819173</td><td> 0.131453437</td><td>-0.08797548</td></tr>\n",
              "\t<tr><th scope=row>5</th><td>PARMESAN CHEESE; GRATED       1 CUP   </td><td>100.00</td><td>19.1</td><td> 79</td><td>0.191000000</td><td> 2.32618530</td><td>-0.28087969</td><td> 1.406541123</td><td> 0.38718057</td></tr>\n",
              "\t<tr><th scope=row>6</th><td>PARMESAN CHEESE; GRATED       1 TBSP  </td><td>  5.00</td><td> 1.0</td><td>  4</td><td>0.200000000</td><td> 2.46227981</td><td>-0.82093055</td><td>-0.278063776</td><td>-0.23802475</td></tr>\n",
              "\t<tr><th scope=row>7</th><td>YEAST; BREWERS; DRY           1 TBSP  </td><td>  8.00</td><td> 0.0</td><td>  0</td><td>0.000000000</td><td>-0.56204258</td><td>-0.80387631</td><td>-0.371135870</td><td>-0.27136904</td></tr>\n",
              "\t<tr><th scope=row>8</th><td>LAMB;CHOPS;ARM;BRAISED;LEAN   1.7 OZ  </td><td> 48.00</td><td> 2.9</td><td> 59</td><td>0.060416667</td><td> 0.35155481</td><td>-0.57648648</td><td>-0.101226798</td><td> 0.22045915</td></tr>\n",
              "\t<tr><th scope=row>9</th><td>TUNA; CANND; DRND;WATR; WHITE 3 OZ    </td><td> 85.00</td><td> 0.3</td><td> 48</td><td>0.003529412</td><td>-0.50867218</td><td>-0.36615088</td><td>-0.343214242</td><td> 0.12876237</td></tr>\n",
              "\t<tr><th scope=row>10</th><td>NONFAT DRY MILK; INSTANTIZED  1 CUP   </td><td> 68.00</td><td> 0.3</td><td> 12</td><td>0.004411765</td><td>-0.49532958</td><td>-0.46279156</td><td>-0.343214242</td><td>-0.17133619</td></tr>\n",
              "\t<tr><th scope=row>11</th><td>NONFAT DRY MILK; INSTANTIZED  1 ENVLPE</td><td> 91.00</td><td> 0.4</td><td> 17</td><td>0.004395604</td><td>-0.49557395</td><td>-0.33204240</td><td>-0.333907032</td><td>-0.12965583</td></tr>\n",
              "\t<tr><th scope=row>12</th><td>BUTTERMILK; DRIED             1 CUP   </td><td>120.00</td><td> 4.3</td><td> 83</td><td>0.035833333</td><td>-0.02018482</td><td>-0.16718477</td><td> 0.029074134</td><td> 0.42052486</td></tr>\n",
              "\t<tr><th scope=row>13</th><td>BEEF; DRIED; CHIPPED          2.5 OZ  </td><td> 72.00</td><td> 1.8</td><td> 46</td><td>0.025000000</td><td>-0.18400228</td><td>-0.44005257</td><td>-0.203606101</td><td> 0.11209023</td></tr>\n",
              "\t<tr><th scope=row>14</th><td>PORK SHOULDER; BRAISD; LEAN   2.4 OZ  </td><td> 67.00</td><td> 2.8</td><td> 76</td><td>0.041791045</td><td> 0.06990538</td><td>-0.46847630</td><td>-0.110534007</td><td> 0.36217236</td></tr>\n",
              "\t<tr><th scope=row>15</th><td>BEEF; CKD;BTTM ROUND;LEAN ONLY2.8 OZ  </td><td> 78.00</td><td> 2.7</td><td> 75</td><td>0.034615385</td><td>-0.03860217</td><td>-0.40594410</td><td>-0.119841216</td><td> 0.35383629</td></tr>\n",
              "\t<tr><th scope=row>16</th><td>PORK CHOP; LOIN; BROIL; LEAN  2.5 OZ  </td><td> 72.00</td><td> 2.6</td><td> 71</td><td>0.036111111</td><td>-0.01598437</td><td>-0.44005257</td><td>-0.129148426</td><td> 0.32049200</td></tr>\n",
              "\t<tr><th scope=row>17</th><td>LAMB;CHOPS;ARM;BRAISED;LEAN+FT2.2 OZ  </td><td> 63.00</td><td> 6.9</td><td> 77</td><td>0.109523810</td><td> 1.09413397</td><td>-0.49121529</td><td> 0.271061578</td><td> 0.37050843</td></tr>\n",
              "\t<tr><th scope=row>18</th><td>CHICKEN; FRIED; FLOUR; BREAST 3.5 OZ  </td><td> 98.00</td><td> 2.4</td><td> 87</td><td>0.024489796</td><td>-0.19171739</td><td>-0.29224918</td><td>-0.147762845</td><td> 0.45386914</td></tr>\n",
              "\t<tr><th scope=row>19</th><td>PORK; CURED; BACON; REGUL;CKED3 SLICE </td><td> 19.00</td><td> 3.3</td><td> 16</td><td>0.173684211</td><td> 2.06434265</td><td>-0.74134411</td><td>-0.063997960</td><td>-0.13799190</td></tr>\n",
              "\t<tr><th scope=row>20</th><td>CHICKEN; ROASTED; BREAST      3.0 OZ  </td><td> 86.00</td><td> 0.9</td><td> 73</td><td>0.010465116</td><td>-0.40379315</td><td>-0.36046613</td><td>-0.287370985</td><td> 0.33716415</td></tr>\n",
              "\t<tr><th scope=row>21</th><td>PEANUT BUTTER                 1 TBSP  </td><td> 16.00</td><td> 1.4</td><td>  0</td><td>0.087500000</td><td> 0.76109846</td><td>-0.75839835</td><td>-0.240834938</td><td>-0.27136904</td></tr>\n",
              "\t<tr><th scope=row>22</th><td>BEEF; CKD;CHUCK BLADE;LEANONLY2.2 OZ  </td><td> 62.00</td><td> 3.9</td><td> 66</td><td>0.062903226</td><td> 0.38915559</td><td>-0.49690003</td><td>-0.008154704</td><td> 0.27881165</td></tr>\n",
              "\t<tr><th scope=row>23</th><td>BEEF STEAK;SIRLOIN;BROIL;LEAN 2.5 OZ  </td><td> 72.00</td><td> 2.6</td><td> 64</td><td>0.036111111</td><td>-0.01598437</td><td>-0.44005257</td><td>-0.129148426</td><td> 0.26213951</td></tr>\n",
              "\t<tr><th scope=row>24</th><td>LAMB;CHOPS;LOIN;BROIL;LEAN    2.3 OZ  </td><td> 64.00</td><td> 2.6</td><td> 60</td><td>0.040625000</td><td> 0.05227291</td><td>-0.48553054</td><td>-0.129148426</td><td> 0.22879522</td></tr>\n",
              "\t<tr><th scope=row>25</th><td>BEEF; CKD;BTTM ROUND;LEAN+ FAT3 OZ    </td><td> 85.00</td><td> 4.8</td><td> 81</td><td>0.056470588</td><td> 0.29188374</td><td>-0.36615088</td><td> 0.075610181</td><td> 0.40385271</td></tr>\n",
              "\t<tr><th scope=row>26</th><td>TURKEY; ROASTED; LIGHT + DARK 3 PIECES</td><td> 85.00</td><td> 1.4</td><td> 65</td><td>0.016470588</td><td>-0.31298073</td><td>-0.36615088</td><td>-0.240834938</td><td> 0.27047558</td></tr>\n",
              "\t<tr><th scope=row>27</th><td>TURKEY; ROASTED; LIGHT MEAT   2 PIECES</td><td> 85.00</td><td> 0.9</td><td> 59</td><td>0.010588235</td><td>-0.40193139</td><td>-0.36615088</td><td>-0.287370985</td><td> 0.22045915</td></tr>\n",
              "\t<tr><th scope=row>28</th><td>BEEF ROAST; EYE O RND; LEAN   2.6 OZ  </td><td> 75.00</td><td> 1.9</td><td> 52</td><td>0.025333333</td><td>-0.17896174</td><td>-0.42299834</td><td>-0.194298891</td><td> 0.16210665</td></tr>\n",
              "\t<tr><th scope=row>29</th><td>TURKEY; ROASTED; LIGHT + DARK 1 CUP   </td><td>140.00</td><td> 2.3</td><td>106</td><td>0.016428571</td><td>-0.31361610</td><td>-0.05348985</td><td>-0.157070054</td><td> 0.61225449</td></tr>\n",
              "\t<tr><th scope=row>30</th><td>PORK CHOP; LOIN;PANFRY; LEAN  2.4 OZ  </td><td> 67.00</td><td> 3.7</td><td> 72</td><td>0.055223881</td><td> 0.27303151</td><td>-0.46847630</td><td>-0.026769123</td><td> 0.32882808</td></tr>\n",
              "\t<tr><th scope=row>⋮</th><td>⋮</td><td>⋮</td><td>⋮</td><td>⋮</td><td>⋮</td><td>⋮</td><td>⋮</td><td>⋮</td><td>⋮</td></tr>\n",
              "\t<tr><th scope=row>71</th><td>PUMPKIN AND SQUASH KERNELS    1 OZ    </td><td> 28.35</td><td> 2.5</td><td>  0</td><td>0.088183422</td><td> 0.77143290</td><td>-0.68819173</td><td>-0.13845564</td><td>-0.27136904</td></tr>\n",
              "\t<tr><th scope=row>72</th><td>WALNUTS; BLACK; CHOPPED       1 OZ    </td><td> 28.35</td><td> 1.0</td><td>  0</td><td>0.035273369</td><td>-0.02865239</td><td>-0.68819173</td><td>-0.27806378</td><td>-0.27136904</td></tr>\n",
              "\t<tr><th scope=row>73</th><td>CHEDDAR CHEESE                1 OZ    </td><td> 28.35</td><td> 6.0</td><td> 30</td><td>0.211640212</td><td> 2.63829857</td><td>-0.68819173</td><td> 0.18729669</td><td>-0.02128691</td></tr>\n",
              "\t<tr><th scope=row>74</th><td>PASTERZD PROCES CHEESE; SWISS 1 OZ    </td><td> 28.35</td><td> 4.5</td><td> 24</td><td>0.158730159</td><td> 1.83821328</td><td>-0.68819173</td><td> 0.04768855</td><td>-0.07130333</td></tr>\n",
              "\t<tr><th scope=row>75</th><td>MUENSTER CHEESE               1 OZ    </td><td> 28.35</td><td> 5.4</td><td> 27</td><td>0.190476190</td><td> 2.31826445</td><td>-0.68819173</td><td> 0.13145344</td><td>-0.04629512</td></tr>\n",
              "\t<tr><th scope=row>76</th><td>PROVOLONE CHEESE              1 OZ    </td><td> 28.35</td><td> 4.8</td><td> 20</td><td>0.169312169</td><td> 1.99823034</td><td>-0.68819173</td><td> 0.07561018</td><td>-0.10464762</td></tr>\n",
              "\t<tr><th scope=row>77</th><td>WALNUTS; BLACK; CHOPPED       1 CUP   </td><td>125.00</td><td> 4.5</td><td>  0</td><td>0.036000000</td><td>-0.01766455</td><td>-0.13876104</td><td> 0.04768855</td><td>-0.27136904</td></tr>\n",
              "\t<tr><th scope=row>78</th><td>PORK; CURED; BACON;CANADN;CKED2 SLICE </td><td> 46.00</td><td> 1.3</td><td> 27</td><td>0.028260870</td><td>-0.13469268</td><td>-0.58785597</td><td>-0.25014215</td><td>-0.04629512</td></tr>\n",
              "\t<tr><th scope=row>79</th><td>TURKEY LOAF; BREAST MEAT W/O C2 SLICES</td><td> 42.00</td><td> 0.2</td><td> 17</td><td>0.004761905</td><td>-0.49003490</td><td>-0.61059495</td><td>-0.35252145</td><td>-0.12965583</td></tr>\n",
              "\t<tr><th scope=row>80</th><td>TURKEY LOAF; BREAST MEAT; W/ C2 SLICES</td><td> 42.00</td><td> 0.2</td><td> 17</td><td>0.004761905</td><td>-0.49003490</td><td>-0.61059495</td><td>-0.35252145</td><td>-0.12965583</td></tr>\n",
              "\t<tr><th scope=row>81</th><td>PORK CHOP; LOIN;PANFRY;LEAN+FT3.1 OZ  </td><td> 89.00</td><td> 9.8</td><td> 92</td><td>0.110112360</td><td> 1.10303379</td><td>-0.34341189</td><td> 0.54097065</td><td> 0.49554950</td></tr>\n",
              "\t<tr><th scope=row>82</th><td>SARDINES; ATLNTC;CNNED;OIL;DRN3 OZ    </td><td> 85.00</td><td> 2.1</td><td> 85</td><td>0.024705882</td><td>-0.18844981</td><td>-0.36615088</td><td>-0.17568447</td><td> 0.43719700</td></tr>\n",
              "\t<tr><th scope=row>83</th><td>DUCK; ROASTED; FLESH ONLY     1/2 DUCK</td><td>221.00</td><td> 9.2</td><td>197</td><td>0.041628959</td><td> 0.06745439</td><td> 0.40697457</td><td> 0.48512739</td><td> 1.37083695</td></tr>\n",
              "\t<tr><th scope=row>84</th><td>GROUND BEEF; BROILED; REGULAR 3 OZ    </td><td> 85.00</td><td> 6.9</td><td> 76</td><td>0.081176471</td><td> 0.66547651</td><td>-0.36615088</td><td> 0.27106158</td><td> 0.36217236</td></tr>\n",
              "\t<tr><th scope=row>85</th><td>HALIBUT; BROILED; BUTTER;LEMJU3 OZ    </td><td> 85.00</td><td> 3.3</td><td> 62</td><td>0.038823529</td><td> 0.02503177</td><td>-0.36615088</td><td>-0.06399796</td><td> 0.24546736</td></tr>\n",
              "\t<tr><th scope=row>86</th><td>CHEDDAR CHEESE                1 CU IN </td><td> 17.00</td><td> 3.6</td><td> 18</td><td>0.211764706</td><td> 2.64018112</td><td>-0.75271360</td><td>-0.03607633</td><td>-0.12131976</td></tr>\n",
              "\t<tr><th scope=row>87</th><td>PORK; LINK; COOKED            1 LINK  </td><td> 13.00</td><td> 1.4</td><td> 11</td><td>0.107692308</td><td> 1.06643871</td><td>-0.77545258</td><td>-0.24083494</td><td>-0.17967226</td></tr>\n",
              "\t<tr><th scope=row>88</th><td>BEEF ROAST; RIB; LEAN + FAT   3 OZ    </td><td> 85.00</td><td>10.8</td><td> 72</td><td>0.127058824</td><td> 1.35929164</td><td>-0.36615088</td><td> 0.63404274</td><td> 0.32882808</td></tr>\n",
              "\t<tr><th scope=row>89</th><td>CHICKEN; FRIED; BATTER;DRMSTCK2.5 OZ  </td><td> 72.00</td><td> 3.0</td><td> 62</td><td>0.041666667</td><td> 0.06802459</td><td>-0.44005257</td><td>-0.09191959</td><td> 0.24546736</td></tr>\n",
              "\t<tr><th scope=row>90</th><td>CHICKEN; CANNED; BONELESS     5 OZ    </td><td>142.00</td><td> 3.1</td><td> 88</td><td>0.021830986</td><td>-0.23192288</td><td>-0.04212036</td><td>-0.08261238</td><td> 0.46220521</td></tr>\n",
              "\t<tr><th scope=row>91</th><td>FISH STICKS; FROZEN; REHEATED 1 STICK </td><td> 28.00</td><td> 0.8</td><td> 26</td><td>0.028571429</td><td>-0.12999652</td><td>-0.69018140</td><td>-0.29667819</td><td>-0.05463119</td></tr>\n",
              "\t<tr><th scope=row>92</th><td>LAMB; RIB; ROASTED; LEAN + FAT3 OZ    </td><td> 85.00</td><td>12.1</td><td> 77</td><td>0.142352941</td><td> 1.59056335</td><td>-0.36615088</td><td> 0.75503647</td><td> 0.37050843</td></tr>\n",
              "\t<tr><th scope=row>93</th><td>TURKEY ROAST; FRZN;LGHT+DRK;CK3 OZ    </td><td> 85.00</td><td> 1.6</td><td> 45</td><td>0.018823529</td><td>-0.27740047</td><td>-0.36615088</td><td>-0.22222052</td><td> 0.10375416</td></tr>\n",
              "\t<tr><th scope=row>94</th><td>PORK; CURED; HAM; CANNED;ROAST3 OZ    </td><td> 85.00</td><td> 2.4</td><td> 35</td><td>0.028235294</td><td>-0.13507942</td><td>-0.36615088</td><td>-0.14776284</td><td> 0.02039345</td></tr>\n",
              "\t<tr><th scope=row>95</th><td>SALMON; SMOKED                3 OZ    </td><td> 85.00</td><td> 2.6</td><td> 51</td><td>0.030588235</td><td>-0.09949915</td><td>-0.36615088</td><td>-0.12914843</td><td> 0.15377058</td></tr>\n",
              "\t<tr><th scope=row>96</th><td>PORK; CURED; HAM; ROSTED;LN+FT3 OZ    </td><td> 85.00</td><td> 5.1</td><td> 53</td><td>0.060000000</td><td> 0.34525414</td><td>-0.36615088</td><td> 0.10353181</td><td> 0.17044273</td></tr>\n",
              "\t<tr><th scope=row>97</th><td>SPECIAL K CEREAL              1 OZ    </td><td> 28.35</td><td> 0.0</td><td>  0</td><td>0.000000000</td><td>-0.56204258</td><td>-0.68819173</td><td>-0.37113587</td><td>-0.27136904</td></tr>\n",
              "\t<tr><th scope=row>98</th><td>PISTACHIO NUTS                1 OZ    </td><td> 28.35</td><td> 1.7</td><td>  0</td><td>0.059964727</td><td> 0.34472075</td><td>-0.68819173</td><td>-0.21291331</td><td>-0.27136904</td></tr>\n",
              "\t<tr><th scope=row>99</th><td>SUNFLOWER SEEDS               1 OZ    </td><td> 28.35</td><td> 1.5</td><td>  0</td><td>0.052910053</td><td> 0.23804271</td><td>-0.68819173</td><td>-0.23152773</td><td>-0.27136904</td></tr>\n",
              "\t<tr><th scope=row>100</th><td>ALMONDS; WHOLE                1 OZ    </td><td> 28.35</td><td> 1.4</td><td>  0</td><td>0.049382716</td><td> 0.18470369</td><td>-0.68819173</td><td>-0.24083494</td><td>-0.27136904</td></tr>\n",
              "</tbody>\n",
              "</table>\n"
            ],
            "text/markdown": "\nA data.frame: 100 × 9\n\n| <!--/--> | food.item &lt;chr&gt; | weight_in_grams &lt;dbl&gt; | saturated_fat &lt;dbl&gt; | cholesterol &lt;int&gt; | saturated_fat_per_gram &lt;dbl&gt; | scaled_saturated_fat_per_gram &lt;dbl[,1]&gt; | scaled_weight_in_grams &lt;dbl[,1]&gt; | scaled_saturated_fat &lt;dbl[,1]&gt; | scaled_cholesterol &lt;dbl[,1]&gt; |\n|---|---|---|---|---|---|---|---|---|---|\n| 1 | GELATIN; DRY                  1 ENVELP |   7.00 |  0.0 |   0 | 0.000000000 | -0.56204258 | -0.80956106 | -0.371135870 | -0.27136904 |\n| 2 | SEAWEED; SPIRULINA; DRIED     1 OZ     |  28.35 |  0.8 |   0 | 0.028218695 | -0.13533042 | -0.68819173 | -0.296678195 | -0.27136904 |\n| 3 | YEAST; BAKERS; DRY; ACTIVE    1 PKG    |   7.00 |  0.0 |   0 | 0.000000000 | -0.56204258 | -0.80956106 | -0.371135870 | -0.27136904 |\n| 4 | PARMESAN CHEESE; GRATED       1 OZ     |  28.35 |  5.4 |  22 | 0.190476190 |  2.31826445 | -0.68819173 |  0.131453437 | -0.08797548 |\n| 5 | PARMESAN CHEESE; GRATED       1 CUP    | 100.00 | 19.1 |  79 | 0.191000000 |  2.32618530 | -0.28087969 |  1.406541123 |  0.38718057 |\n| 6 | PARMESAN CHEESE; GRATED       1 TBSP   |   5.00 |  1.0 |   4 | 0.200000000 |  2.46227981 | -0.82093055 | -0.278063776 | -0.23802475 |\n| 7 | YEAST; BREWERS; DRY           1 TBSP   |   8.00 |  0.0 |   0 | 0.000000000 | -0.56204258 | -0.80387631 | -0.371135870 | -0.27136904 |\n| 8 | LAMB;CHOPS;ARM;BRAISED;LEAN   1.7 OZ   |  48.00 |  2.9 |  59 | 0.060416667 |  0.35155481 | -0.57648648 | -0.101226798 |  0.22045915 |\n| 9 | TUNA; CANND; DRND;WATR; WHITE 3 OZ     |  85.00 |  0.3 |  48 | 0.003529412 | -0.50867218 | -0.36615088 | -0.343214242 |  0.12876237 |\n| 10 | NONFAT DRY MILK; INSTANTIZED  1 CUP    |  68.00 |  0.3 |  12 | 0.004411765 | -0.49532958 | -0.46279156 | -0.343214242 | -0.17133619 |\n| 11 | NONFAT DRY MILK; INSTANTIZED  1 ENVLPE |  91.00 |  0.4 |  17 | 0.004395604 | -0.49557395 | -0.33204240 | -0.333907032 | -0.12965583 |\n| 12 | BUTTERMILK; DRIED             1 CUP    | 120.00 |  4.3 |  83 | 0.035833333 | -0.02018482 | -0.16718477 |  0.029074134 |  0.42052486 |\n| 13 | BEEF; DRIED; CHIPPED          2.5 OZ   |  72.00 |  1.8 |  46 | 0.025000000 | -0.18400228 | -0.44005257 | -0.203606101 |  0.11209023 |\n| 14 | PORK SHOULDER; BRAISD; LEAN   2.4 OZ   |  67.00 |  2.8 |  76 | 0.041791045 |  0.06990538 | -0.46847630 | -0.110534007 |  0.36217236 |\n| 15 | BEEF; CKD;BTTM ROUND;LEAN ONLY2.8 OZ   |  78.00 |  2.7 |  75 | 0.034615385 | -0.03860217 | -0.40594410 | -0.119841216 |  0.35383629 |\n| 16 | PORK CHOP; LOIN; BROIL; LEAN  2.5 OZ   |  72.00 |  2.6 |  71 | 0.036111111 | -0.01598437 | -0.44005257 | -0.129148426 |  0.32049200 |\n| 17 | LAMB;CHOPS;ARM;BRAISED;LEAN+FT2.2 OZ   |  63.00 |  6.9 |  77 | 0.109523810 |  1.09413397 | -0.49121529 |  0.271061578 |  0.37050843 |\n| 18 | CHICKEN; FRIED; FLOUR; BREAST 3.5 OZ   |  98.00 |  2.4 |  87 | 0.024489796 | -0.19171739 | -0.29224918 | -0.147762845 |  0.45386914 |\n| 19 | PORK; CURED; BACON; REGUL;CKED3 SLICE  |  19.00 |  3.3 |  16 | 0.173684211 |  2.06434265 | -0.74134411 | -0.063997960 | -0.13799190 |\n| 20 | CHICKEN; ROASTED; BREAST      3.0 OZ   |  86.00 |  0.9 |  73 | 0.010465116 | -0.40379315 | -0.36046613 | -0.287370985 |  0.33716415 |\n| 21 | PEANUT BUTTER                 1 TBSP   |  16.00 |  1.4 |   0 | 0.087500000 |  0.76109846 | -0.75839835 | -0.240834938 | -0.27136904 |\n| 22 | BEEF; CKD;CHUCK BLADE;LEANONLY2.2 OZ   |  62.00 |  3.9 |  66 | 0.062903226 |  0.38915559 | -0.49690003 | -0.008154704 |  0.27881165 |\n| 23 | BEEF STEAK;SIRLOIN;BROIL;LEAN 2.5 OZ   |  72.00 |  2.6 |  64 | 0.036111111 | -0.01598437 | -0.44005257 | -0.129148426 |  0.26213951 |\n| 24 | LAMB;CHOPS;LOIN;BROIL;LEAN    2.3 OZ   |  64.00 |  2.6 |  60 | 0.040625000 |  0.05227291 | -0.48553054 | -0.129148426 |  0.22879522 |\n| 25 | BEEF; CKD;BTTM ROUND;LEAN+ FAT3 OZ     |  85.00 |  4.8 |  81 | 0.056470588 |  0.29188374 | -0.36615088 |  0.075610181 |  0.40385271 |\n| 26 | TURKEY; ROASTED; LIGHT + DARK 3 PIECES |  85.00 |  1.4 |  65 | 0.016470588 | -0.31298073 | -0.36615088 | -0.240834938 |  0.27047558 |\n| 27 | TURKEY; ROASTED; LIGHT MEAT   2 PIECES |  85.00 |  0.9 |  59 | 0.010588235 | -0.40193139 | -0.36615088 | -0.287370985 |  0.22045915 |\n| 28 | BEEF ROAST; EYE O RND; LEAN   2.6 OZ   |  75.00 |  1.9 |  52 | 0.025333333 | -0.17896174 | -0.42299834 | -0.194298891 |  0.16210665 |\n| 29 | TURKEY; ROASTED; LIGHT + DARK 1 CUP    | 140.00 |  2.3 | 106 | 0.016428571 | -0.31361610 | -0.05348985 | -0.157070054 |  0.61225449 |\n| 30 | PORK CHOP; LOIN;PANFRY; LEAN  2.4 OZ   |  67.00 |  3.7 |  72 | 0.055223881 |  0.27303151 | -0.46847630 | -0.026769123 |  0.32882808 |\n| ⋮ | ⋮ | ⋮ | ⋮ | ⋮ | ⋮ | ⋮ | ⋮ | ⋮ | ⋮ |\n| 71 | PUMPKIN AND SQUASH KERNELS    1 OZ     |  28.35 |  2.5 |   0 | 0.088183422 |  0.77143290 | -0.68819173 | -0.13845564 | -0.27136904 |\n| 72 | WALNUTS; BLACK; CHOPPED       1 OZ     |  28.35 |  1.0 |   0 | 0.035273369 | -0.02865239 | -0.68819173 | -0.27806378 | -0.27136904 |\n| 73 | CHEDDAR CHEESE                1 OZ     |  28.35 |  6.0 |  30 | 0.211640212 |  2.63829857 | -0.68819173 |  0.18729669 | -0.02128691 |\n| 74 | PASTERZD PROCES CHEESE; SWISS 1 OZ     |  28.35 |  4.5 |  24 | 0.158730159 |  1.83821328 | -0.68819173 |  0.04768855 | -0.07130333 |\n| 75 | MUENSTER CHEESE               1 OZ     |  28.35 |  5.4 |  27 | 0.190476190 |  2.31826445 | -0.68819173 |  0.13145344 | -0.04629512 |\n| 76 | PROVOLONE CHEESE              1 OZ     |  28.35 |  4.8 |  20 | 0.169312169 |  1.99823034 | -0.68819173 |  0.07561018 | -0.10464762 |\n| 77 | WALNUTS; BLACK; CHOPPED       1 CUP    | 125.00 |  4.5 |   0 | 0.036000000 | -0.01766455 | -0.13876104 |  0.04768855 | -0.27136904 |\n| 78 | PORK; CURED; BACON;CANADN;CKED2 SLICE  |  46.00 |  1.3 |  27 | 0.028260870 | -0.13469268 | -0.58785597 | -0.25014215 | -0.04629512 |\n| 79 | TURKEY LOAF; BREAST MEAT W/O C2 SLICES |  42.00 |  0.2 |  17 | 0.004761905 | -0.49003490 | -0.61059495 | -0.35252145 | -0.12965583 |\n| 80 | TURKEY LOAF; BREAST MEAT; W/ C2 SLICES |  42.00 |  0.2 |  17 | 0.004761905 | -0.49003490 | -0.61059495 | -0.35252145 | -0.12965583 |\n| 81 | PORK CHOP; LOIN;PANFRY;LEAN+FT3.1 OZ   |  89.00 |  9.8 |  92 | 0.110112360 |  1.10303379 | -0.34341189 |  0.54097065 |  0.49554950 |\n| 82 | SARDINES; ATLNTC;CNNED;OIL;DRN3 OZ     |  85.00 |  2.1 |  85 | 0.024705882 | -0.18844981 | -0.36615088 | -0.17568447 |  0.43719700 |\n| 83 | DUCK; ROASTED; FLESH ONLY     1/2 DUCK | 221.00 |  9.2 | 197 | 0.041628959 |  0.06745439 |  0.40697457 |  0.48512739 |  1.37083695 |\n| 84 | GROUND BEEF; BROILED; REGULAR 3 OZ     |  85.00 |  6.9 |  76 | 0.081176471 |  0.66547651 | -0.36615088 |  0.27106158 |  0.36217236 |\n| 85 | HALIBUT; BROILED; BUTTER;LEMJU3 OZ     |  85.00 |  3.3 |  62 | 0.038823529 |  0.02503177 | -0.36615088 | -0.06399796 |  0.24546736 |\n| 86 | CHEDDAR CHEESE                1 CU IN  |  17.00 |  3.6 |  18 | 0.211764706 |  2.64018112 | -0.75271360 | -0.03607633 | -0.12131976 |\n| 87 | PORK; LINK; COOKED            1 LINK   |  13.00 |  1.4 |  11 | 0.107692308 |  1.06643871 | -0.77545258 | -0.24083494 | -0.17967226 |\n| 88 | BEEF ROAST; RIB; LEAN + FAT   3 OZ     |  85.00 | 10.8 |  72 | 0.127058824 |  1.35929164 | -0.36615088 |  0.63404274 |  0.32882808 |\n| 89 | CHICKEN; FRIED; BATTER;DRMSTCK2.5 OZ   |  72.00 |  3.0 |  62 | 0.041666667 |  0.06802459 | -0.44005257 | -0.09191959 |  0.24546736 |\n| 90 | CHICKEN; CANNED; BONELESS     5 OZ     | 142.00 |  3.1 |  88 | 0.021830986 | -0.23192288 | -0.04212036 | -0.08261238 |  0.46220521 |\n| 91 | FISH STICKS; FROZEN; REHEATED 1 STICK  |  28.00 |  0.8 |  26 | 0.028571429 | -0.12999652 | -0.69018140 | -0.29667819 | -0.05463119 |\n| 92 | LAMB; RIB; ROASTED; LEAN + FAT3 OZ     |  85.00 | 12.1 |  77 | 0.142352941 |  1.59056335 | -0.36615088 |  0.75503647 |  0.37050843 |\n| 93 | TURKEY ROAST; FRZN;LGHT+DRK;CK3 OZ     |  85.00 |  1.6 |  45 | 0.018823529 | -0.27740047 | -0.36615088 | -0.22222052 |  0.10375416 |\n| 94 | PORK; CURED; HAM; CANNED;ROAST3 OZ     |  85.00 |  2.4 |  35 | 0.028235294 | -0.13507942 | -0.36615088 | -0.14776284 |  0.02039345 |\n| 95 | SALMON; SMOKED                3 OZ     |  85.00 |  2.6 |  51 | 0.030588235 | -0.09949915 | -0.36615088 | -0.12914843 |  0.15377058 |\n| 96 | PORK; CURED; HAM; ROSTED;LN+FT3 OZ     |  85.00 |  5.1 |  53 | 0.060000000 |  0.34525414 | -0.36615088 |  0.10353181 |  0.17044273 |\n| 97 | SPECIAL K CEREAL              1 OZ     |  28.35 |  0.0 |   0 | 0.000000000 | -0.56204258 | -0.68819173 | -0.37113587 | -0.27136904 |\n| 98 | PISTACHIO NUTS                1 OZ     |  28.35 |  1.7 |   0 | 0.059964727 |  0.34472075 | -0.68819173 | -0.21291331 | -0.27136904 |\n| 99 | SUNFLOWER SEEDS               1 OZ     |  28.35 |  1.5 |   0 | 0.052910053 |  0.23804271 | -0.68819173 | -0.23152773 | -0.27136904 |\n| 100 | ALMONDS; WHOLE                1 OZ     |  28.35 |  1.4 |   0 | 0.049382716 |  0.18470369 | -0.68819173 | -0.24083494 | -0.27136904 |\n\n",
            "text/latex": "A data.frame: 100 × 9\n\\begin{tabular}{r|lllllllll}\n  & food.item & weight\\_in\\_grams & saturated\\_fat & cholesterol & saturated\\_fat\\_per\\_gram & scaled\\_saturated\\_fat\\_per\\_gram & scaled\\_weight\\_in\\_grams & scaled\\_saturated\\_fat & scaled\\_cholesterol\\\\\n  & <chr> & <dbl> & <dbl> & <int> & <dbl> & <dbl{[},1{]}> & <dbl{[},1{]}> & <dbl{[},1{]}> & <dbl{[},1{]}>\\\\\n\\hline\n\t1 & GELATIN; DRY                  1 ENVELP &   7.00 &  0.0 &   0 & 0.000000000 & -0.56204258 & -0.80956106 & -0.371135870 & -0.27136904\\\\\n\t2 & SEAWEED; SPIRULINA; DRIED     1 OZ     &  28.35 &  0.8 &   0 & 0.028218695 & -0.13533042 & -0.68819173 & -0.296678195 & -0.27136904\\\\\n\t3 & YEAST; BAKERS; DRY; ACTIVE    1 PKG    &   7.00 &  0.0 &   0 & 0.000000000 & -0.56204258 & -0.80956106 & -0.371135870 & -0.27136904\\\\\n\t4 & PARMESAN CHEESE; GRATED       1 OZ     &  28.35 &  5.4 &  22 & 0.190476190 &  2.31826445 & -0.68819173 &  0.131453437 & -0.08797548\\\\\n\t5 & PARMESAN CHEESE; GRATED       1 CUP    & 100.00 & 19.1 &  79 & 0.191000000 &  2.32618530 & -0.28087969 &  1.406541123 &  0.38718057\\\\\n\t6 & PARMESAN CHEESE; GRATED       1 TBSP   &   5.00 &  1.0 &   4 & 0.200000000 &  2.46227981 & -0.82093055 & -0.278063776 & -0.23802475\\\\\n\t7 & YEAST; BREWERS; DRY           1 TBSP   &   8.00 &  0.0 &   0 & 0.000000000 & -0.56204258 & -0.80387631 & -0.371135870 & -0.27136904\\\\\n\t8 & LAMB;CHOPS;ARM;BRAISED;LEAN   1.7 OZ   &  48.00 &  2.9 &  59 & 0.060416667 &  0.35155481 & -0.57648648 & -0.101226798 &  0.22045915\\\\\n\t9 & TUNA; CANND; DRND;WATR; WHITE 3 OZ     &  85.00 &  0.3 &  48 & 0.003529412 & -0.50867218 & -0.36615088 & -0.343214242 &  0.12876237\\\\\n\t10 & NONFAT DRY MILK; INSTANTIZED  1 CUP    &  68.00 &  0.3 &  12 & 0.004411765 & -0.49532958 & -0.46279156 & -0.343214242 & -0.17133619\\\\\n\t11 & NONFAT DRY MILK; INSTANTIZED  1 ENVLPE &  91.00 &  0.4 &  17 & 0.004395604 & -0.49557395 & -0.33204240 & -0.333907032 & -0.12965583\\\\\n\t12 & BUTTERMILK; DRIED             1 CUP    & 120.00 &  4.3 &  83 & 0.035833333 & -0.02018482 & -0.16718477 &  0.029074134 &  0.42052486\\\\\n\t13 & BEEF; DRIED; CHIPPED          2.5 OZ   &  72.00 &  1.8 &  46 & 0.025000000 & -0.18400228 & -0.44005257 & -0.203606101 &  0.11209023\\\\\n\t14 & PORK SHOULDER; BRAISD; LEAN   2.4 OZ   &  67.00 &  2.8 &  76 & 0.041791045 &  0.06990538 & -0.46847630 & -0.110534007 &  0.36217236\\\\\n\t15 & BEEF; CKD;BTTM ROUND;LEAN ONLY2.8 OZ   &  78.00 &  2.7 &  75 & 0.034615385 & -0.03860217 & -0.40594410 & -0.119841216 &  0.35383629\\\\\n\t16 & PORK CHOP; LOIN; BROIL; LEAN  2.5 OZ   &  72.00 &  2.6 &  71 & 0.036111111 & -0.01598437 & -0.44005257 & -0.129148426 &  0.32049200\\\\\n\t17 & LAMB;CHOPS;ARM;BRAISED;LEAN+FT2.2 OZ   &  63.00 &  6.9 &  77 & 0.109523810 &  1.09413397 & -0.49121529 &  0.271061578 &  0.37050843\\\\\n\t18 & CHICKEN; FRIED; FLOUR; BREAST 3.5 OZ   &  98.00 &  2.4 &  87 & 0.024489796 & -0.19171739 & -0.29224918 & -0.147762845 &  0.45386914\\\\\n\t19 & PORK; CURED; BACON; REGUL;CKED3 SLICE  &  19.00 &  3.3 &  16 & 0.173684211 &  2.06434265 & -0.74134411 & -0.063997960 & -0.13799190\\\\\n\t20 & CHICKEN; ROASTED; BREAST      3.0 OZ   &  86.00 &  0.9 &  73 & 0.010465116 & -0.40379315 & -0.36046613 & -0.287370985 &  0.33716415\\\\\n\t21 & PEANUT BUTTER                 1 TBSP   &  16.00 &  1.4 &   0 & 0.087500000 &  0.76109846 & -0.75839835 & -0.240834938 & -0.27136904\\\\\n\t22 & BEEF; CKD;CHUCK BLADE;LEANONLY2.2 OZ   &  62.00 &  3.9 &  66 & 0.062903226 &  0.38915559 & -0.49690003 & -0.008154704 &  0.27881165\\\\\n\t23 & BEEF STEAK;SIRLOIN;BROIL;LEAN 2.5 OZ   &  72.00 &  2.6 &  64 & 0.036111111 & -0.01598437 & -0.44005257 & -0.129148426 &  0.26213951\\\\\n\t24 & LAMB;CHOPS;LOIN;BROIL;LEAN    2.3 OZ   &  64.00 &  2.6 &  60 & 0.040625000 &  0.05227291 & -0.48553054 & -0.129148426 &  0.22879522\\\\\n\t25 & BEEF; CKD;BTTM ROUND;LEAN+ FAT3 OZ     &  85.00 &  4.8 &  81 & 0.056470588 &  0.29188374 & -0.36615088 &  0.075610181 &  0.40385271\\\\\n\t26 & TURKEY; ROASTED; LIGHT + DARK 3 PIECES &  85.00 &  1.4 &  65 & 0.016470588 & -0.31298073 & -0.36615088 & -0.240834938 &  0.27047558\\\\\n\t27 & TURKEY; ROASTED; LIGHT MEAT   2 PIECES &  85.00 &  0.9 &  59 & 0.010588235 & -0.40193139 & -0.36615088 & -0.287370985 &  0.22045915\\\\\n\t28 & BEEF ROAST; EYE O RND; LEAN   2.6 OZ   &  75.00 &  1.9 &  52 & 0.025333333 & -0.17896174 & -0.42299834 & -0.194298891 &  0.16210665\\\\\n\t29 & TURKEY; ROASTED; LIGHT + DARK 1 CUP    & 140.00 &  2.3 & 106 & 0.016428571 & -0.31361610 & -0.05348985 & -0.157070054 &  0.61225449\\\\\n\t30 & PORK CHOP; LOIN;PANFRY; LEAN  2.4 OZ   &  67.00 &  3.7 &  72 & 0.055223881 &  0.27303151 & -0.46847630 & -0.026769123 &  0.32882808\\\\\n\t⋮ & ⋮ & ⋮ & ⋮ & ⋮ & ⋮ & ⋮ & ⋮ & ⋮ & ⋮\\\\\n\t71 & PUMPKIN AND SQUASH KERNELS    1 OZ     &  28.35 &  2.5 &   0 & 0.088183422 &  0.77143290 & -0.68819173 & -0.13845564 & -0.27136904\\\\\n\t72 & WALNUTS; BLACK; CHOPPED       1 OZ     &  28.35 &  1.0 &   0 & 0.035273369 & -0.02865239 & -0.68819173 & -0.27806378 & -0.27136904\\\\\n\t73 & CHEDDAR CHEESE                1 OZ     &  28.35 &  6.0 &  30 & 0.211640212 &  2.63829857 & -0.68819173 &  0.18729669 & -0.02128691\\\\\n\t74 & PASTERZD PROCES CHEESE; SWISS 1 OZ     &  28.35 &  4.5 &  24 & 0.158730159 &  1.83821328 & -0.68819173 &  0.04768855 & -0.07130333\\\\\n\t75 & MUENSTER CHEESE               1 OZ     &  28.35 &  5.4 &  27 & 0.190476190 &  2.31826445 & -0.68819173 &  0.13145344 & -0.04629512\\\\\n\t76 & PROVOLONE CHEESE              1 OZ     &  28.35 &  4.8 &  20 & 0.169312169 &  1.99823034 & -0.68819173 &  0.07561018 & -0.10464762\\\\\n\t77 & WALNUTS; BLACK; CHOPPED       1 CUP    & 125.00 &  4.5 &   0 & 0.036000000 & -0.01766455 & -0.13876104 &  0.04768855 & -0.27136904\\\\\n\t78 & PORK; CURED; BACON;CANADN;CKED2 SLICE  &  46.00 &  1.3 &  27 & 0.028260870 & -0.13469268 & -0.58785597 & -0.25014215 & -0.04629512\\\\\n\t79 & TURKEY LOAF; BREAST MEAT W/O C2 SLICES &  42.00 &  0.2 &  17 & 0.004761905 & -0.49003490 & -0.61059495 & -0.35252145 & -0.12965583\\\\\n\t80 & TURKEY LOAF; BREAST MEAT; W/ C2 SLICES &  42.00 &  0.2 &  17 & 0.004761905 & -0.49003490 & -0.61059495 & -0.35252145 & -0.12965583\\\\\n\t81 & PORK CHOP; LOIN;PANFRY;LEAN+FT3.1 OZ   &  89.00 &  9.8 &  92 & 0.110112360 &  1.10303379 & -0.34341189 &  0.54097065 &  0.49554950\\\\\n\t82 & SARDINES; ATLNTC;CNNED;OIL;DRN3 OZ     &  85.00 &  2.1 &  85 & 0.024705882 & -0.18844981 & -0.36615088 & -0.17568447 &  0.43719700\\\\\n\t83 & DUCK; ROASTED; FLESH ONLY     1/2 DUCK & 221.00 &  9.2 & 197 & 0.041628959 &  0.06745439 &  0.40697457 &  0.48512739 &  1.37083695\\\\\n\t84 & GROUND BEEF; BROILED; REGULAR 3 OZ     &  85.00 &  6.9 &  76 & 0.081176471 &  0.66547651 & -0.36615088 &  0.27106158 &  0.36217236\\\\\n\t85 & HALIBUT; BROILED; BUTTER;LEMJU3 OZ     &  85.00 &  3.3 &  62 & 0.038823529 &  0.02503177 & -0.36615088 & -0.06399796 &  0.24546736\\\\\n\t86 & CHEDDAR CHEESE                1 CU IN  &  17.00 &  3.6 &  18 & 0.211764706 &  2.64018112 & -0.75271360 & -0.03607633 & -0.12131976\\\\\n\t87 & PORK; LINK; COOKED            1 LINK   &  13.00 &  1.4 &  11 & 0.107692308 &  1.06643871 & -0.77545258 & -0.24083494 & -0.17967226\\\\\n\t88 & BEEF ROAST; RIB; LEAN + FAT   3 OZ     &  85.00 & 10.8 &  72 & 0.127058824 &  1.35929164 & -0.36615088 &  0.63404274 &  0.32882808\\\\\n\t89 & CHICKEN; FRIED; BATTER;DRMSTCK2.5 OZ   &  72.00 &  3.0 &  62 & 0.041666667 &  0.06802459 & -0.44005257 & -0.09191959 &  0.24546736\\\\\n\t90 & CHICKEN; CANNED; BONELESS     5 OZ     & 142.00 &  3.1 &  88 & 0.021830986 & -0.23192288 & -0.04212036 & -0.08261238 &  0.46220521\\\\\n\t91 & FISH STICKS; FROZEN; REHEATED 1 STICK  &  28.00 &  0.8 &  26 & 0.028571429 & -0.12999652 & -0.69018140 & -0.29667819 & -0.05463119\\\\\n\t92 & LAMB; RIB; ROASTED; LEAN + FAT3 OZ     &  85.00 & 12.1 &  77 & 0.142352941 &  1.59056335 & -0.36615088 &  0.75503647 &  0.37050843\\\\\n\t93 & TURKEY ROAST; FRZN;LGHT+DRK;CK3 OZ     &  85.00 &  1.6 &  45 & 0.018823529 & -0.27740047 & -0.36615088 & -0.22222052 &  0.10375416\\\\\n\t94 & PORK; CURED; HAM; CANNED;ROAST3 OZ     &  85.00 &  2.4 &  35 & 0.028235294 & -0.13507942 & -0.36615088 & -0.14776284 &  0.02039345\\\\\n\t95 & SALMON; SMOKED                3 OZ     &  85.00 &  2.6 &  51 & 0.030588235 & -0.09949915 & -0.36615088 & -0.12914843 &  0.15377058\\\\\n\t96 & PORK; CURED; HAM; ROSTED;LN+FT3 OZ     &  85.00 &  5.1 &  53 & 0.060000000 &  0.34525414 & -0.36615088 &  0.10353181 &  0.17044273\\\\\n\t97 & SPECIAL K CEREAL              1 OZ     &  28.35 &  0.0 &   0 & 0.000000000 & -0.56204258 & -0.68819173 & -0.37113587 & -0.27136904\\\\\n\t98 & PISTACHIO NUTS                1 OZ     &  28.35 &  1.7 &   0 & 0.059964727 &  0.34472075 & -0.68819173 & -0.21291331 & -0.27136904\\\\\n\t99 & SUNFLOWER SEEDS               1 OZ     &  28.35 &  1.5 &   0 & 0.052910053 &  0.23804271 & -0.68819173 & -0.23152773 & -0.27136904\\\\\n\t100 & ALMONDS; WHOLE                1 OZ     &  28.35 &  1.4 &   0 & 0.049382716 &  0.18470369 & -0.68819173 & -0.24083494 & -0.27136904\\\\\n\\end{tabular}\n",
            "text/plain": [
              "    food.item                              weight_in_grams saturated_fat\n",
              "1   GELATIN; DRY                  1 ENVELP   7.00           0.0         \n",
              "2   SEAWEED; SPIRULINA; DRIED     1 OZ      28.35           0.8         \n",
              "3   YEAST; BAKERS; DRY; ACTIVE    1 PKG      7.00           0.0         \n",
              "4   PARMESAN CHEESE; GRATED       1 OZ      28.35           5.4         \n",
              "5   PARMESAN CHEESE; GRATED       1 CUP    100.00          19.1         \n",
              "6   PARMESAN CHEESE; GRATED       1 TBSP     5.00           1.0         \n",
              "7   YEAST; BREWERS; DRY           1 TBSP     8.00           0.0         \n",
              "8   LAMB;CHOPS;ARM;BRAISED;LEAN   1.7 OZ    48.00           2.9         \n",
              "9   TUNA; CANND; DRND;WATR; WHITE 3 OZ      85.00           0.3         \n",
              "10  NONFAT DRY MILK; INSTANTIZED  1 CUP     68.00           0.3         \n",
              "11  NONFAT DRY MILK; INSTANTIZED  1 ENVLPE  91.00           0.4         \n",
              "12  BUTTERMILK; DRIED             1 CUP    120.00           4.3         \n",
              "13  BEEF; DRIED; CHIPPED          2.5 OZ    72.00           1.8         \n",
              "14  PORK SHOULDER; BRAISD; LEAN   2.4 OZ    67.00           2.8         \n",
              "15  BEEF; CKD;BTTM ROUND;LEAN ONLY2.8 OZ    78.00           2.7         \n",
              "16  PORK CHOP; LOIN; BROIL; LEAN  2.5 OZ    72.00           2.6         \n",
              "17  LAMB;CHOPS;ARM;BRAISED;LEAN+FT2.2 OZ    63.00           6.9         \n",
              "18  CHICKEN; FRIED; FLOUR; BREAST 3.5 OZ    98.00           2.4         \n",
              "19  PORK; CURED; BACON; REGUL;CKED3 SLICE   19.00           3.3         \n",
              "20  CHICKEN; ROASTED; BREAST      3.0 OZ    86.00           0.9         \n",
              "21  PEANUT BUTTER                 1 TBSP    16.00           1.4         \n",
              "22  BEEF; CKD;CHUCK BLADE;LEANONLY2.2 OZ    62.00           3.9         \n",
              "23  BEEF STEAK;SIRLOIN;BROIL;LEAN 2.5 OZ    72.00           2.6         \n",
              "24  LAMB;CHOPS;LOIN;BROIL;LEAN    2.3 OZ    64.00           2.6         \n",
              "25  BEEF; CKD;BTTM ROUND;LEAN+ FAT3 OZ      85.00           4.8         \n",
              "26  TURKEY; ROASTED; LIGHT + DARK 3 PIECES  85.00           1.4         \n",
              "27  TURKEY; ROASTED; LIGHT MEAT   2 PIECES  85.00           0.9         \n",
              "28  BEEF ROAST; EYE O RND; LEAN   2.6 OZ    75.00           1.9         \n",
              "29  TURKEY; ROASTED; LIGHT + DARK 1 CUP    140.00           2.3         \n",
              "30  PORK CHOP; LOIN;PANFRY; LEAN  2.4 OZ    67.00           3.7         \n",
              "⋮   ⋮                                      ⋮               ⋮            \n",
              "71  PUMPKIN AND SQUASH KERNELS    1 OZ      28.35           2.5         \n",
              "72  WALNUTS; BLACK; CHOPPED       1 OZ      28.35           1.0         \n",
              "73  CHEDDAR CHEESE                1 OZ      28.35           6.0         \n",
              "74  PASTERZD PROCES CHEESE; SWISS 1 OZ      28.35           4.5         \n",
              "75  MUENSTER CHEESE               1 OZ      28.35           5.4         \n",
              "76  PROVOLONE CHEESE              1 OZ      28.35           4.8         \n",
              "77  WALNUTS; BLACK; CHOPPED       1 CUP    125.00           4.5         \n",
              "78  PORK; CURED; BACON;CANADN;CKED2 SLICE   46.00           1.3         \n",
              "79  TURKEY LOAF; BREAST MEAT W/O C2 SLICES  42.00           0.2         \n",
              "80  TURKEY LOAF; BREAST MEAT; W/ C2 SLICES  42.00           0.2         \n",
              "81  PORK CHOP; LOIN;PANFRY;LEAN+FT3.1 OZ    89.00           9.8         \n",
              "82  SARDINES; ATLNTC;CNNED;OIL;DRN3 OZ      85.00           2.1         \n",
              "83  DUCK; ROASTED; FLESH ONLY     1/2 DUCK 221.00           9.2         \n",
              "84  GROUND BEEF; BROILED; REGULAR 3 OZ      85.00           6.9         \n",
              "85  HALIBUT; BROILED; BUTTER;LEMJU3 OZ      85.00           3.3         \n",
              "86  CHEDDAR CHEESE                1 CU IN   17.00           3.6         \n",
              "87  PORK; LINK; COOKED            1 LINK    13.00           1.4         \n",
              "88  BEEF ROAST; RIB; LEAN + FAT   3 OZ      85.00          10.8         \n",
              "89  CHICKEN; FRIED; BATTER;DRMSTCK2.5 OZ    72.00           3.0         \n",
              "90  CHICKEN; CANNED; BONELESS     5 OZ     142.00           3.1         \n",
              "91  FISH STICKS; FROZEN; REHEATED 1 STICK   28.00           0.8         \n",
              "92  LAMB; RIB; ROASTED; LEAN + FAT3 OZ      85.00          12.1         \n",
              "93  TURKEY ROAST; FRZN;LGHT+DRK;CK3 OZ      85.00           1.6         \n",
              "94  PORK; CURED; HAM; CANNED;ROAST3 OZ      85.00           2.4         \n",
              "95  SALMON; SMOKED                3 OZ      85.00           2.6         \n",
              "96  PORK; CURED; HAM; ROSTED;LN+FT3 OZ      85.00           5.1         \n",
              "97  SPECIAL K CEREAL              1 OZ      28.35           0.0         \n",
              "98  PISTACHIO NUTS                1 OZ      28.35           1.7         \n",
              "99  SUNFLOWER SEEDS               1 OZ      28.35           1.5         \n",
              "100 ALMONDS; WHOLE                1 OZ      28.35           1.4         \n",
              "    cholesterol saturated_fat_per_gram scaled_saturated_fat_per_gram\n",
              "1     0         0.000000000            -0.56204258                  \n",
              "2     0         0.028218695            -0.13533042                  \n",
              "3     0         0.000000000            -0.56204258                  \n",
              "4    22         0.190476190             2.31826445                  \n",
              "5    79         0.191000000             2.32618530                  \n",
              "6     4         0.200000000             2.46227981                  \n",
              "7     0         0.000000000            -0.56204258                  \n",
              "8    59         0.060416667             0.35155481                  \n",
              "9    48         0.003529412            -0.50867218                  \n",
              "10   12         0.004411765            -0.49532958                  \n",
              "11   17         0.004395604            -0.49557395                  \n",
              "12   83         0.035833333            -0.02018482                  \n",
              "13   46         0.025000000            -0.18400228                  \n",
              "14   76         0.041791045             0.06990538                  \n",
              "15   75         0.034615385            -0.03860217                  \n",
              "16   71         0.036111111            -0.01598437                  \n",
              "17   77         0.109523810             1.09413397                  \n",
              "18   87         0.024489796            -0.19171739                  \n",
              "19   16         0.173684211             2.06434265                  \n",
              "20   73         0.010465116            -0.40379315                  \n",
              "21    0         0.087500000             0.76109846                  \n",
              "22   66         0.062903226             0.38915559                  \n",
              "23   64         0.036111111            -0.01598437                  \n",
              "24   60         0.040625000             0.05227291                  \n",
              "25   81         0.056470588             0.29188374                  \n",
              "26   65         0.016470588            -0.31298073                  \n",
              "27   59         0.010588235            -0.40193139                  \n",
              "28   52         0.025333333            -0.17896174                  \n",
              "29  106         0.016428571            -0.31361610                  \n",
              "30   72         0.055223881             0.27303151                  \n",
              "⋮   ⋮           ⋮                      ⋮                            \n",
              "71    0         0.088183422             0.77143290                  \n",
              "72    0         0.035273369            -0.02865239                  \n",
              "73   30         0.211640212             2.63829857                  \n",
              "74   24         0.158730159             1.83821328                  \n",
              "75   27         0.190476190             2.31826445                  \n",
              "76   20         0.169312169             1.99823034                  \n",
              "77    0         0.036000000            -0.01766455                  \n",
              "78   27         0.028260870            -0.13469268                  \n",
              "79   17         0.004761905            -0.49003490                  \n",
              "80   17         0.004761905            -0.49003490                  \n",
              "81   92         0.110112360             1.10303379                  \n",
              "82   85         0.024705882            -0.18844981                  \n",
              "83  197         0.041628959             0.06745439                  \n",
              "84   76         0.081176471             0.66547651                  \n",
              "85   62         0.038823529             0.02503177                  \n",
              "86   18         0.211764706             2.64018112                  \n",
              "87   11         0.107692308             1.06643871                  \n",
              "88   72         0.127058824             1.35929164                  \n",
              "89   62         0.041666667             0.06802459                  \n",
              "90   88         0.021830986            -0.23192288                  \n",
              "91   26         0.028571429            -0.12999652                  \n",
              "92   77         0.142352941             1.59056335                  \n",
              "93   45         0.018823529            -0.27740047                  \n",
              "94   35         0.028235294            -0.13507942                  \n",
              "95   51         0.030588235            -0.09949915                  \n",
              "96   53         0.060000000             0.34525414                  \n",
              "97    0         0.000000000            -0.56204258                  \n",
              "98    0         0.059964727             0.34472075                  \n",
              "99    0         0.052910053             0.23804271                  \n",
              "100   0         0.049382716             0.18470369                  \n",
              "    scaled_weight_in_grams scaled_saturated_fat scaled_cholesterol\n",
              "1   -0.80956106            -0.371135870         -0.27136904       \n",
              "2   -0.68819173            -0.296678195         -0.27136904       \n",
              "3   -0.80956106            -0.371135870         -0.27136904       \n",
              "4   -0.68819173             0.131453437         -0.08797548       \n",
              "5   -0.28087969             1.406541123          0.38718057       \n",
              "6   -0.82093055            -0.278063776         -0.23802475       \n",
              "7   -0.80387631            -0.371135870         -0.27136904       \n",
              "8   -0.57648648            -0.101226798          0.22045915       \n",
              "9   -0.36615088            -0.343214242          0.12876237       \n",
              "10  -0.46279156            -0.343214242         -0.17133619       \n",
              "11  -0.33204240            -0.333907032         -0.12965583       \n",
              "12  -0.16718477             0.029074134          0.42052486       \n",
              "13  -0.44005257            -0.203606101          0.11209023       \n",
              "14  -0.46847630            -0.110534007          0.36217236       \n",
              "15  -0.40594410            -0.119841216          0.35383629       \n",
              "16  -0.44005257            -0.129148426          0.32049200       \n",
              "17  -0.49121529             0.271061578          0.37050843       \n",
              "18  -0.29224918            -0.147762845          0.45386914       \n",
              "19  -0.74134411            -0.063997960         -0.13799190       \n",
              "20  -0.36046613            -0.287370985          0.33716415       \n",
              "21  -0.75839835            -0.240834938         -0.27136904       \n",
              "22  -0.49690003            -0.008154704          0.27881165       \n",
              "23  -0.44005257            -0.129148426          0.26213951       \n",
              "24  -0.48553054            -0.129148426          0.22879522       \n",
              "25  -0.36615088             0.075610181          0.40385271       \n",
              "26  -0.36615088            -0.240834938          0.27047558       \n",
              "27  -0.36615088            -0.287370985          0.22045915       \n",
              "28  -0.42299834            -0.194298891          0.16210665       \n",
              "29  -0.05348985            -0.157070054          0.61225449       \n",
              "30  -0.46847630            -0.026769123          0.32882808       \n",
              "⋮   ⋮                      ⋮                    ⋮                 \n",
              "71  -0.68819173            -0.13845564          -0.27136904       \n",
              "72  -0.68819173            -0.27806378          -0.27136904       \n",
              "73  -0.68819173             0.18729669          -0.02128691       \n",
              "74  -0.68819173             0.04768855          -0.07130333       \n",
              "75  -0.68819173             0.13145344          -0.04629512       \n",
              "76  -0.68819173             0.07561018          -0.10464762       \n",
              "77  -0.13876104             0.04768855          -0.27136904       \n",
              "78  -0.58785597            -0.25014215          -0.04629512       \n",
              "79  -0.61059495            -0.35252145          -0.12965583       \n",
              "80  -0.61059495            -0.35252145          -0.12965583       \n",
              "81  -0.34341189             0.54097065           0.49554950       \n",
              "82  -0.36615088            -0.17568447           0.43719700       \n",
              "83   0.40697457             0.48512739           1.37083695       \n",
              "84  -0.36615088             0.27106158           0.36217236       \n",
              "85  -0.36615088            -0.06399796           0.24546736       \n",
              "86  -0.75271360            -0.03607633          -0.12131976       \n",
              "87  -0.77545258            -0.24083494          -0.17967226       \n",
              "88  -0.36615088             0.63404274           0.32882808       \n",
              "89  -0.44005257            -0.09191959           0.24546736       \n",
              "90  -0.04212036            -0.08261238           0.46220521       \n",
              "91  -0.69018140            -0.29667819          -0.05463119       \n",
              "92  -0.36615088             0.75503647           0.37050843       \n",
              "93  -0.36615088            -0.22222052           0.10375416       \n",
              "94  -0.36615088            -0.14776284           0.02039345       \n",
              "95  -0.36615088            -0.12914843           0.15377058       \n",
              "96  -0.36615088             0.10353181           0.17044273       \n",
              "97  -0.68819173            -0.37113587          -0.27136904       \n",
              "98  -0.68819173            -0.21291331          -0.27136904       \n",
              "99  -0.68819173            -0.23152773          -0.27136904       \n",
              "100 -0.68819173            -0.24083494          -0.27136904       "
            ]
          },
          "metadata": {}
        }
      ]
    },
    {
      "cell_type": "markdown",
      "source": [
        "8. Summary: After importing the data and creating a dataframe with it, I sorted the data by the saturated fat and found the 5 highest values. The hightest out of those was 1 cheesecake with a saturated fat value of 119.9. However this isn't a valid way to find which food has the most saturated fat because it doesn't take into account the size of the food. To do that, We can use saturated fat per gram, which gives a more accurate picture on what foods have the most saturated fat. After finding the saturated fat per gram for each food and sorting the data and diplaying the 5 highest values based on saturated fat per gram, I found the food with the highest value to be 1 tablespoon of salted butter with a saturated fat per gram of 0.507. After this I standardized the saturated fat per gram and checked for outliers. I found 15 high end outliers and 0 low end outliers. After this I created a denstity plot for the unscaled and scaled saturated fat per gram and found that most of the values were close to the mean and that the mean is slightly over 0 (about 0.02). At this point I also checked for missing values and didn't find any. Finally I standardized the other 3 numeric variables and checked if they had any outliers. Weight per gram had 22, saturated fat had 20, and cholesterol had 17."
      ],
      "metadata": {
        "id": "Lnq5VZ03rVyf"
      }
    }
  ]
}
