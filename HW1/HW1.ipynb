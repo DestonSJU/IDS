{
  "nbformat": 4,
  "nbformat_minor": 0,
  "metadata": {
    "colab": {
      "provenance": []
    },
    "kernelspec": {
      "name": "python3",
      "display_name": "Python 3"
    },
    "language_info": {
      "name": "python"
    }
  },
  "cells": [
    {
      "cell_type": "code",
      "execution_count": null,
      "metadata": {
        "id": "1veIMia3h599"
      },
      "outputs": [],
      "source": []
    },
    {
      "cell_type": "markdown",
      "source": [
        "Based on the chicken feed data, sunflower seems to be the most beneficial food for a thriving poultry population. This is because it has the highest average weight per chicken, meaning that on average, a chicken eating sunflower will be bigger than a chicken eating anything else.\n",
        "\n",
        "Based on the data, I would choose Progressive as my auto insurance provider. Although GEICO has the highest individual rating, Progressive has the highest average rating, meaning that it is more likely that I will have a better experience with Progressive than GEICO or USAA."
      ],
      "metadata": {
        "id": "vUtSROhyh6aY"
      }
    }
  ]
}